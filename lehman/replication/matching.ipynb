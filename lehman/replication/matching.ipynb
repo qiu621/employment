{
 "cells": [
  {
   "cell_type": "code",
   "execution_count": 1,
   "metadata": {
    "pycharm": {
     "is_executing": false
    }
   },
   "outputs": [],
   "source": [
    "import pandas as pd\n",
    "from collections import defaultdict\n",
    "import numpy as np"
   ]
  },
  {
   "cell_type": "markdown",
   "metadata": {},
   "source": [
    "# MATCHING BY ROLE"
   ]
  },
  {
   "cell_type": "code",
   "execution_count": 2,
   "metadata": {
    "pycharm": {
     "is_executing": false
    }
   },
   "outputs": [],
   "source": [
    "def main(csv_file):\n",
    "    employ_data = pd.read_csv(csv_file, sep=\"\\t\", header=None,\n",
    "                              names=[i for i in range(34)], low_memory=False)\n",
    "    # column info from taxonomy file\n",
    "    name = ['user', 'name', 'birth', 'gender', 'primary',\n",
    "            'primary_weight', 'secondary', 'secondary_weight',\n",
    "            'city', 'country', 'education', 'elite', 'start',\n",
    "            '.', 'end', '??', '/', 'length', 'role', 'department',\n",
    "            'company', 'normalized_company', 'ticker', 'exchange',\n",
    "            'public', 'location_company', 'industry', 'educational',\n",
    "            'degree', 'elite_education', 'major', 'department', 'FIGI',\n",
    "            'last_update']\n",
    "    employ_data.columns = name\n",
    "\n",
    "    # drop irrelevant columns\n",
    "    drop = ['length', 'gender', 'primary',\n",
    "            'primary_weight', 'secondary', 'secondary_weight',\n",
    "            'city', 'country', 'education', 'elite', '.', '??',\n",
    "            '/', 'department', 'exchange',\n",
    "            'public', 'location_company', 'educational', 'degree', 'elite_education',\n",
    "            'major', 'department', 'FIGI', 'last_update', 'industry','birth','company']\n",
    "    return employ_data.drop(labels=drop, axis=1)\n",
    "\n",
    "\n",
    "# data without datetime features, and none values for some dates\n",
    "raw_data = {'db': main('./Data/DB_profiles.csv'),\n",
    "            'gs': main('./Data/GS_profiles.csv'),\n",
    "            'leh': main('./Data/LEH_profiles.csv'),\n",
    "            'ms': main('./Data/MS_profiles.csv'),\n",
    "            'ubs': main('./Data/UBS_profiles.csv')\n",
    "            }\n",
    "\n",
    "def standardize_dates(company):\n",
    "    \"\"\"\n",
    "    Converts start date and end date to datetime objects, and converts None values to the minimum or maximum date.\n",
    "\n",
    "    Returns the modified dataframe\n",
    "    \"\"\"\n",
    "    company_data = raw_data[company].copy()\n",
    "    company_data['start'].replace('None', '1900-01-01', inplace=True)\n",
    "    company_data['end'].replace('None', '2018-01-01', inplace=True)\n",
    "    company_data['start'] = pd.to_datetime(company_data['start'])\n",
    "    company_data['end'] = pd.to_datetime(company_data['end'])\n",
    "    return company_data\n",
    "\n",
    "\n",
    "# set up dictionary to hold data for each company\n",
    "data = {}\n",
    "\n",
    "for company in raw_data.keys():\n",
    "    data[company] = standardize_dates(company)\n",
    " "
   ]
  },
  {
   "cell_type": "code",
   "execution_count": 3,
   "metadata": {
    "pycharm": {
     "is_executing": false
    }
   },
   "outputs": [],
   "source": [
    "def get_most_recent_entry(company):\n",
    "    \"\"\"\"\n",
    "    Returns where each person worked as of 2008-01-01, according to Fedyk's conditioning\n",
    "    \"\"\"\n",
    "    date_2008 = pd.to_datetime('2008-01-01')\n",
    "    missing_start = pd.to_datetime('1900-01-01')\n",
    "    missing_end = pd.to_datetime('2018-01-01')\n",
    "    \n",
    "    copy = data[company].copy()\n",
    "    company_tickers = {'db': 'DB', 'leh': 'LEH', 'gs': 'GS', 'ms': 'MS^E', 'ubs': 'UBS'}\n",
    "    # conditions: start and end not both missing, worked before/after 2008-01-01, ticker matches company\n",
    "    mask = ~((copy['start'] == missing_start) & (copy['end'] == missing_end)) & \\\n",
    "        (copy['start'] < date_2008) & \\\n",
    "        (copy['end'] > date_2008) & \\\n",
    "        (copy['ticker'] == company_tickers[company])\n",
    "    return copy[mask]\n",
    "\n",
    "recent_entries = {company_name: get_most_recent_entry(company_name) for company_name in data.keys()}"
   ]
  },
  {
   "cell_type": "code",
   "execution_count": 4,
   "metadata": {
    "pycharm": {
     "is_executing": false
    }
   },
   "outputs": [],
   "source": [
    "all_data = pd.concat(recent_entries.values())\n",
    "#only person missing a role in the entire data set\n",
    "all_data = all_data.drop(11512)"
   ]
  },
  {
   "cell_type": "code",
   "execution_count": 5,
   "metadata": {
    "pycharm": {
     "is_executing": false
    }
   },
   "outputs": [],
   "source": [
    "directors = set(all_data[(all_data.role.str.contains(r'director|MD,md', case = False)) \n",
    "                         | (all_data.role.str.match(r'ed|md', case = False))].user)\n",
    "all_roles = directors.copy()\n",
    "\n",
    "analysts = set(all_data[all_data.role.str.contains('analyst|Anaylst', case = False)].user).difference(all_roles)\n",
    "all_roles = all_roles.union(analysts)\n",
    "\n",
    "vps = set(all_data[all_data.role.str.contains('president|vp', case = False)].user).difference(all_roles)\n",
    "all_roles = all_roles.union(vps)\n",
    "\n",
    "assocs = set(all_data[all_data.role.str.contains('associate', case = False)].user).difference(all_roles)\n",
    "all_roles = all_roles.union(assocs)\n",
    "\n",
    "accountants = set(all_data[all_data.role.str.contains('accountant|account executive|accounting',case = False)].user).difference(all_roles)\n",
    "all_roles = all_roles.union(accountants)\n",
    "\n",
    "consultants = set(all_data[all_data.role.str.contains('consultant', case = False)].user).difference(all_roles)\n",
    "all_roles = all_roles.union(consultants)\n",
    "\n",
    "missing = set(all_data[all_data.role.str.match(r'-|\\?|\\.', case = False)].user).difference(all_roles)\n",
    "all_roles = all_roles.union(missing)\n",
    "\n",
    "developers = set(all_data[all_data.role.str.contains(r'developer|engineer|system administrator', case = False)].user).difference(all_roles)\n",
    "all_roles = all_roles.union(developers)\n",
    "\n",
    "interns = set(all_data[all_data.role.str.contains('intern|trainee|apprentice', case = False)].user).difference(all_roles)\n",
    "all_roles = all_roles.union(interns)\n",
    "\n",
    "specialists = set(all_data[all_data.role.str.contains('specialist|administrator|research|expert', case = False)].user).difference(all_roles)\n",
    "all_roles = all_roles.union(specialists)\n",
    "\n",
    "sales = set(all_data[all_data.role.str.contains('sales', case = False)].user).difference(all_roles)\n",
    "all_roles = all_roles.union(sales)\n",
    "\n",
    "traders = set(all_data[all_data.role.str.contains(r'trader|trading|Portfolio Management', case = False)].user).difference(all_roles)\n",
    "all_roles = all_roles.union(traders)\n",
    "\n",
    "bankers = set(all_data[all_data.role.str.contains(r'banking|banker|finance', case = False)].user).difference(all_roles)\n",
    "all_roles = all_roles.union(bankers)\n",
    "\n",
    "controllers = set(all_data[all_data.role.str.contains('controller', case = False)].user).difference(all_roles)\n",
    "all_roles = all_roles.union(controllers)\n",
    "\n",
    "partners = set(all_data[all_data.role.str.contains('partner', case = False)].user).difference(all_roles)\n",
    "all_roles = all_roles.union(partners)\n",
    "\n",
    "counsels = set(all_data[all_data.role.str.contains('counsel', case = False)].user).difference(all_roles)\n",
    "all_roles = all_roles.union(counsels)\n",
    "\n",
    "recruiters = set(all_data[all_data.role.str.contains('recruiter|human resources', case = False)].user).difference(all_roles)\n",
    "all_roles = all_roles.union(recruiters)\n",
    "\n",
    "advisors = set(all_data[all_data.role.str.contains('advisor|adviseur', case = False)].user).difference(all_roles)\n",
    "all_roles = all_roles.union(advisors)\n",
    "\n",
    "assistants = set(all_data[all_data.role.str.contains('assistant|support|services|receptionist', case = False)].user).difference(all_roles)\n",
    "all_roles = all_roles.union(assistants)\n",
    "\n",
    "managers = set(all_data[all_data.role.str.contains(r'manager|supervisor|team lead|head|lead|coordinator|representative|process executive', case = False)].user).difference(all_roles)\n",
    "all_roles = all_roles.union(managers)\n",
    "\n",
    "others = set(all_data.user).difference(all_roles)"
   ]
  },
  {
   "cell_type": "code",
   "execution_count": 6,
   "metadata": {
    "pycharm": {
     "is_executing": false
    }
   },
   "outputs": [],
   "source": [
    "# remaining = all_data[~all_data.user.isin(all_roles)].copy()\n",
    "\n",
    "# remaining.role.value_counts().to_csv('./Deliverables/uncategorized_data.csv')"
   ]
  },
  {
   "cell_type": "code",
   "execution_count": 7,
   "metadata": {
    "pycharm": {
     "is_executing": false
    }
   },
   "outputs": [
    {
     "data": {
      "text/plain": "[None,\n None,\n None,\n None,\n None,\n None,\n None,\n None,\n None,\n None,\n None,\n None,\n None,\n None,\n None,\n None,\n None,\n None,\n None,\n None,\n None]"
     },
     "metadata": {},
     "output_type": "execute_result",
     "execution_count": 7
    }
   ],
   "source": [
    "all_sets = [directors, analysts, vps, assocs, advisors, assistants, consultants, managers, missing, developers, interns, specialists, sales, traders, bankers, controllers, partners, counsels, recruiters, accountants, others]\n",
    "job_titles = ['director', 'analyst','vp', 'assoc','advisor','assistant','consultant','manager','missing','developer', 'intern', 'specialist','sale','trader','banker','controller','parnter','counsel', 'recruiter','accountant','other']\n",
    "\n",
    "#associate each set with a name\n",
    "zipped = list(zip(all_sets,job_titles))\n",
    "\n",
    "def to_dict(dictionary, users, job_title):\n",
    "    \n",
    "    for user in users:\n",
    "        dictionary.update({user:job_title})\n",
    "\n",
    "#process the sets, mapping each user to a job title\n",
    "full_mapping = {}\n",
    "[to_dict(full_mapping, x, y) for x,y in zipped]\n",
    "\n",
    "# two stragglers when doing the regression model, not relevant here\n",
    "# full_mapping.update({'c0a3eb6a-59db-3a30-8a39-99a7cc8b9ce1' : 'specialist'})\n",
    "# full_mapping.update({'5f425323-1cdf-3e81-a08e-35b483c42da9' : 'missing'})"
   ]
  },
  {
   "cell_type": "code",
   "execution_count": 8,
   "metadata": {
    "pycharm": {
     "is_executing": false
    }
   },
   "outputs": [
    {
     "data": {
      "text/plain": "                                     user                          name  \\\n2    32c1439f-81b4-37cd-85b1-88c0f004b586                   Adam Gelder   \n9    52239a8f-09fb-375b-8e3f-39504d5b2619               Charlotte Jones   \n22   e9fb0588-ca3c-3b95-b103-81468b47a3d5                Paloma Berdejo   \n34   b774d84f-4c75-318a-9dc6-0b1e3da84258                Stefan Boecker   \n38   9bf965bf-33ee-373e-85ac-50bab4be811c                Simon Hallbäck   \n47   8193d67a-9c79-3c06-b39c-206aa15f604f                   Stijn Geens   \n55   1247f6df-be06-3807-abbc-02cb894e7839                Ramona Pearson   \n63   8b887838-a895-3cab-b741-abddf751ce6f               Sushant Chandak   \n71   0a71a22a-2652-3240-af7a-5dde5aadcbbd     Birgit Frolik-Hoffmeister   \n81   3a295c28-9da7-368a-b1c0-9a528b5c5579               Sean Okoe Quist   \n84   8cc3514a-1801-37c5-9000-c2e342d6c431            Vigneshwari Ranjit   \n91   4531df56-e133-3a26-9028-bf7f648a7614                Douglas Nelson   \n115  02b2614d-14d1-344e-afc5-03e8dd166ca6                   Farhat Umar   \n137  48da9e33-e941-3fb9-b338-1d7f0f6ffae8              Jeannine Coelman   \n144  ab52d8f9-ba76-3645-ac25-b6d214eb313b              Nicholas Weisser   \n151  48faa0ac-8979-3a8c-a03d-082116743505               Igor Vuckovecki   \n163  d07b3a71-334c-3096-ba36-fe133b076d34                Trudee Wieting   \n171  17af99f0-f53d-3322-ac16-1b48509bab56                 Jeremy Turner   \n175  e8901225-2d2a-3681-8f30-bd4c26ac9f84            Christiane Petroff   \n186  3bb22436-f7e6-3a6c-8b17-e06987935b80              Michael Blackmon   \n188  ee7fb0c7-1b9f-3457-abda-62f91d740386                 Tracy Clopton   \n201  35250bf9-c475-3118-8cc9-cd8f369a7613                   Mark Dougan   \n209  c734c8a1-1e45-3d6c-9186-41819ae7d298                  Nathan Tauro   \n213  909b55f7-56dd-35ec-b4f5-a1802c9d199b                     luke hogg   \n227  70b777da-4fb6-3909-886a-ed60b8aed6ef                 allen vincent   \n241  73ef6a4c-ba94-362c-85e7-6841f01de727                  Joe Lourenco   \n251  d7261130-9631-3359-8c3e-3addd35d86e9                 John Venieris   \n254  eed2c616-f4b3-3d7a-93c8-76adf584bb43               Aklak Jaitapkar   \n261  c73e6d9a-c4c4-38a6-8094-3d85738a0706                  Alvin Thayil   \n271  eab86ab6-2be8-341b-83b8-1b2612409b17                 Oliver Schaal   \n273  eab86ab6-2be8-341b-83b8-1b2612409b17                 Oliver Schaal   \n279  1a9790ba-e47f-35bf-9543-01b9ce2c178a                Cassiel Shoben   \n287  b2604665-6033-35f2-95dc-426e917c7a51              Melissa Champion   \n298  ea96cf7e-6c0d-30ae-bc32-77e16b345517  Murugabharathy Ayyappan ,CSM   \n311  631fce74-d144-3cf2-944f-ee6b70d65064                   Sanjukta De   \n325  73fd9e57-90c5-3a77-9536-f66d0565822a                  Jeremy Beard   \n328  1980dee9-cf26-3391-b2d0-ccccc607c91e                Leonie Hofstee   \n340  7f38999b-a457-3b04-aeca-57343b411f49                   Paolo Scala   \n349  56a232d6-010b-38e5-9dc0-f2fabda12ec5                Andy Couldrake   \n358  03c35978-f634-393b-ad03-6438a62f8145               Ashutosh Mishra   \n364  06dc9356-c422-36f5-9366-926f1f9d4e3c               Marievic Tecson   \n374  aadb146e-adfd-3d75-a7a4-8b29b09bbe62               Ashutosh Mishra   \n382  2bac458a-bc43-33ea-878f-1ab503564aa0              Charlotte Bouter   \n392  94e2ea42-06f5-3245-972f-b90fbedd8069                  Ilya Nikitin   \n398  fee07d09-0faa-31b7-a45d-683a2d955ee4               Julian Wiegmann   \n411  1367fdc9-eaf9-352c-8e01-5a878d82b71a                  Kerem Tezcan   \n417  93809d00-1156-38cb-9868-bfb898d1e581                  Erdi Dogruel   \n430  ca322f39-0840-3d05-bbfc-1f6d01e605cb                 Glen Gregorio   \n440  73237293-fc2e-3497-be70-0126d99dc179                    Ting Louie   \n448  abc2e8fc-4303-3879-9b7f-019d8b662015                 Eileen Becker   \n\n         start        end                                               role  \\\n2   1997-05-01 2015-04-01  Director Head of Regional Sales - EMEA Trust &...   \n9   2005-05-01 2009-08-01  Global Head of Accounting Policy and Advisory ...   \n22  2007-07-01 2012-01-01  Managing Director Country Head Equities Spain,...   \n34  2007-07-01 2010-09-01         Head of CRM Portfolio Management APAC,head   \n38  2005-08-01 2008-05-01  Associate in Credit Risk Management,associate,...   \n47  2006-12-01 2008-08-01              Operations Officer,operations officer   \n55  2007-10-01 2008-07-01  Transaction Management Group - Change the Bank...   \n63  2007-11-01 2009-01-01  Process Executive-Fixed Income Operations,oper...   \n71  2006-03-01 2010-03-01                 Telefonische Privatkundenbetreuung   \n81  2004-01-01 2012-01-01                      Vice President,vice president   \n84  2007-06-01 2009-04-01                        Process Executive,executive   \n91  2005-08-01 2010-03-01  Associate – ISDA/Derivative Compliance Special...   \n115 2007-06-01 2010-12-01  Assistant Vice President,vice president,assistant   \n137 2000-01-01 2008-02-01  Locatiemanager Klantenservice Amsterdam Postba...   \n144 2003-05-01 2008-05-01  Vice President Hedge Fund Research,vice presid...   \n151 2006-10-01 2008-12-01                      Operations Control,operations   \n163 2007-08-01 2015-01-01                Senior Accountant,senior accountant   \n171 2006-01-01 2010-01-01                 Change and Release Manager,manager   \n175 2006-01-01 2009-01-01                      Credit Analyst,credit analyst   \n186 2006-08-01 2015-11-01       Asst Vice President,vice president,assistant   \n188 1998-07-01 2012-09-01        Operations Specialist,operations,specialist   \n201 2004-04-01 2009-06-01  Australia head of Global Credit Trading (GCT) ...   \n209 2005-12-01 2010-07-01  Fixed Income Structured Credit and Capital Mkt...   \n213 2006-09-01 2008-08-01                Apprentice Fitter,apprentice,fitter   \n227 2006-01-01 2008-03-01  Asia Pacific Head of Structured Trade Analysis...   \n241 2007-03-01 2008-02-01        IT Support Technician,it,support,technician   \n251 2006-04-01 2009-08-01                Financial Advisor,financial advisor   \n254 2007-01-01 2014-01-01                          Team Manager,team manager   \n261 2007-06-01 2008-08-01  Key Account Manager - Corporate Sales,key acco...   \n271 1999-02-01 2018-01-01                      Vice President,vice president   \n273 2007-02-01 2009-02-01  Finance - Group wide Change Management,finance...   \n279 2006-08-01 2008-03-01                                Associate,associate   \n287 2007-01-01 2009-01-01  Fixed Income Operations Analyst,operations,ana...   \n298 2004-07-01 2008-03-01  Technical lead- IBIT -Fixed IncomeSingapore,te...   \n311 2006-02-01 2009-09-01  Manager - Compliance Operations including AML ...   \n325 2001-09-01 2008-10-01                                  Director,director   \n328 2007-09-01 2008-05-01              Adviseur Levensverzekeringen,adviseur   \n340 2003-07-01 2009-12-01  Business Area Controller Private Wealth Manage...   \n349 1996-06-01 2009-06-01              Software Developer,software developer   \n358 2004-04-01 2009-11-01   Director & Head - Flow Sales,director,head,sales   \n364 2007-04-01 2015-09-01                  Business Analyst,business analyst   \n374 2004-04-01 2009-11-01   Director & Head - Flow Sales,director,head,sales   \n382 2004-06-01 2008-10-01  Medewerker Bijzonder Beheer Postbank Hypotheke...   \n392 2006-05-01 2016-03-01                                  Director,director   \n398 2007-04-01 2010-03-01  Network Security Services,network,security,ser...   \n411 2007-03-01 2012-09-01              Analyst Director,analyst,\",\",director   \n417 2007-08-01 2008-07-01                                One-Year internship   \n430 2002-06-01 2010-07-01  Vice President Credit Trading,vice president,\"...   \n440 2007-01-01 2011-01-01                           Investment Banker,banker   \n448 2007-10-01 2012-08-01                                         Referentin   \n\n    normalized_company ticker job_category  \n2        Deutsche Bank     DB     director  \n9        Deutsche Bank     DB   accountant  \n22       Deutsche Bank     DB     director  \n34       Deutsche Bank     DB       trader  \n38       Deutsche Bank     DB        assoc  \n47       Deutsche Bank     DB        other  \n55       Deutsche Bank     DB        other  \n63       Deutsche Bank     DB      manager  \n71       Deutsche Bank     DB        other  \n81       Deutsche Bank     DB           vp  \n84       Deutsche Bank     DB      manager  \n91       Deutsche Bank     DB        assoc  \n115      Deutsche Bank     DB           vp  \n137           Postbank     DB      manager  \n144      Deutsche Bank     DB           vp  \n151      Deutsche Bank     DB        other  \n163      Deutsche Bank     DB   accountant  \n171      Deutsche Bank     DB      manager  \n175      Deutsche Bank     DB      analyst  \n186      Deutsche Bank     DB           vp  \n188      Deutsche Bank     DB   specialist  \n201      Deutsche Bank     DB       trader  \n209      Deutsche Bank     DB        other  \n213      Deutsche Bahn     DB       intern  \n227      Deutsche Bank     DB      manager  \n241      Deutsche Bank     DB    assistant  \n251           Postbank     DB      advisor  \n254      Deutsche Bank     DB      manager  \n261      Deutsche Bank     DB         sale  \n271      Deutsche Bank     DB           vp  \n273      Deutsche Bank     DB           vp  \n279      Deutsche Bank     DB        assoc  \n287      Deutsche Bank     DB      analyst  \n298      Deutsche Bank     DB      manager  \n311      Deutsche Bank     DB      manager  \n325      Deutsche Bank     DB     director  \n328           Postbank     DB      advisor  \n340      Deutsche Bank     DB   controller  \n349      Deutsche Bank     DB    developer  \n358      Deutsche Bank     DB     director  \n364      Deutsche Bank     DB      analyst  \n374      Deutsche Bank     DB     director  \n382           Postbank     DB        other  \n392      Deutsche Bank     DB     director  \n398      Deutsche Bank     DB    assistant  \n411      Deutsche Bank     DB     director  \n417      Deutsche Bank     DB       intern  \n430      Deutsche Bank     DB           vp  \n440      Deutsche Bank     DB       banker  \n448      Deutsche Bahn     DB        other  ",
      "text/html": "<div>\n<style scoped>\n    .dataframe tbody tr th:only-of-type {\n        vertical-align: middle;\n    }\n\n    .dataframe tbody tr th {\n        vertical-align: top;\n    }\n\n    .dataframe thead th {\n        text-align: right;\n    }\n</style>\n<table border=\"1\" class=\"dataframe\">\n  <thead>\n    <tr style=\"text-align: right;\">\n      <th></th>\n      <th>user</th>\n      <th>name</th>\n      <th>start</th>\n      <th>end</th>\n      <th>role</th>\n      <th>normalized_company</th>\n      <th>ticker</th>\n      <th>job_category</th>\n    </tr>\n  </thead>\n  <tbody>\n    <tr>\n      <td>2</td>\n      <td>32c1439f-81b4-37cd-85b1-88c0f004b586</td>\n      <td>Adam Gelder</td>\n      <td>1997-05-01</td>\n      <td>2015-04-01</td>\n      <td>Director Head of Regional Sales - EMEA Trust &amp;...</td>\n      <td>Deutsche Bank</td>\n      <td>DB</td>\n      <td>director</td>\n    </tr>\n    <tr>\n      <td>9</td>\n      <td>52239a8f-09fb-375b-8e3f-39504d5b2619</td>\n      <td>Charlotte Jones</td>\n      <td>2005-05-01</td>\n      <td>2009-08-01</td>\n      <td>Global Head of Accounting Policy and Advisory ...</td>\n      <td>Deutsche Bank</td>\n      <td>DB</td>\n      <td>accountant</td>\n    </tr>\n    <tr>\n      <td>22</td>\n      <td>e9fb0588-ca3c-3b95-b103-81468b47a3d5</td>\n      <td>Paloma Berdejo</td>\n      <td>2007-07-01</td>\n      <td>2012-01-01</td>\n      <td>Managing Director Country Head Equities Spain,...</td>\n      <td>Deutsche Bank</td>\n      <td>DB</td>\n      <td>director</td>\n    </tr>\n    <tr>\n      <td>34</td>\n      <td>b774d84f-4c75-318a-9dc6-0b1e3da84258</td>\n      <td>Stefan Boecker</td>\n      <td>2007-07-01</td>\n      <td>2010-09-01</td>\n      <td>Head of CRM Portfolio Management APAC,head</td>\n      <td>Deutsche Bank</td>\n      <td>DB</td>\n      <td>trader</td>\n    </tr>\n    <tr>\n      <td>38</td>\n      <td>9bf965bf-33ee-373e-85ac-50bab4be811c</td>\n      <td>Simon Hallbäck</td>\n      <td>2005-08-01</td>\n      <td>2008-05-01</td>\n      <td>Associate in Credit Risk Management,associate,...</td>\n      <td>Deutsche Bank</td>\n      <td>DB</td>\n      <td>assoc</td>\n    </tr>\n    <tr>\n      <td>47</td>\n      <td>8193d67a-9c79-3c06-b39c-206aa15f604f</td>\n      <td>Stijn Geens</td>\n      <td>2006-12-01</td>\n      <td>2008-08-01</td>\n      <td>Operations Officer,operations officer</td>\n      <td>Deutsche Bank</td>\n      <td>DB</td>\n      <td>other</td>\n    </tr>\n    <tr>\n      <td>55</td>\n      <td>1247f6df-be06-3807-abbc-02cb894e7839</td>\n      <td>Ramona Pearson</td>\n      <td>2007-10-01</td>\n      <td>2008-07-01</td>\n      <td>Transaction Management Group - Change the Bank...</td>\n      <td>Deutsche Bank</td>\n      <td>DB</td>\n      <td>other</td>\n    </tr>\n    <tr>\n      <td>63</td>\n      <td>8b887838-a895-3cab-b741-abddf751ce6f</td>\n      <td>Sushant Chandak</td>\n      <td>2007-11-01</td>\n      <td>2009-01-01</td>\n      <td>Process Executive-Fixed Income Operations,oper...</td>\n      <td>Deutsche Bank</td>\n      <td>DB</td>\n      <td>manager</td>\n    </tr>\n    <tr>\n      <td>71</td>\n      <td>0a71a22a-2652-3240-af7a-5dde5aadcbbd</td>\n      <td>Birgit Frolik-Hoffmeister</td>\n      <td>2006-03-01</td>\n      <td>2010-03-01</td>\n      <td>Telefonische Privatkundenbetreuung</td>\n      <td>Deutsche Bank</td>\n      <td>DB</td>\n      <td>other</td>\n    </tr>\n    <tr>\n      <td>81</td>\n      <td>3a295c28-9da7-368a-b1c0-9a528b5c5579</td>\n      <td>Sean Okoe Quist</td>\n      <td>2004-01-01</td>\n      <td>2012-01-01</td>\n      <td>Vice President,vice president</td>\n      <td>Deutsche Bank</td>\n      <td>DB</td>\n      <td>vp</td>\n    </tr>\n    <tr>\n      <td>84</td>\n      <td>8cc3514a-1801-37c5-9000-c2e342d6c431</td>\n      <td>Vigneshwari Ranjit</td>\n      <td>2007-06-01</td>\n      <td>2009-04-01</td>\n      <td>Process Executive,executive</td>\n      <td>Deutsche Bank</td>\n      <td>DB</td>\n      <td>manager</td>\n    </tr>\n    <tr>\n      <td>91</td>\n      <td>4531df56-e133-3a26-9028-bf7f648a7614</td>\n      <td>Douglas Nelson</td>\n      <td>2005-08-01</td>\n      <td>2010-03-01</td>\n      <td>Associate – ISDA/Derivative Compliance Special...</td>\n      <td>Deutsche Bank</td>\n      <td>DB</td>\n      <td>assoc</td>\n    </tr>\n    <tr>\n      <td>115</td>\n      <td>02b2614d-14d1-344e-afc5-03e8dd166ca6</td>\n      <td>Farhat Umar</td>\n      <td>2007-06-01</td>\n      <td>2010-12-01</td>\n      <td>Assistant Vice President,vice president,assistant</td>\n      <td>Deutsche Bank</td>\n      <td>DB</td>\n      <td>vp</td>\n    </tr>\n    <tr>\n      <td>137</td>\n      <td>48da9e33-e941-3fb9-b338-1d7f0f6ffae8</td>\n      <td>Jeannine Coelman</td>\n      <td>2000-01-01</td>\n      <td>2008-02-01</td>\n      <td>Locatiemanager Klantenservice Amsterdam Postba...</td>\n      <td>Postbank</td>\n      <td>DB</td>\n      <td>manager</td>\n    </tr>\n    <tr>\n      <td>144</td>\n      <td>ab52d8f9-ba76-3645-ac25-b6d214eb313b</td>\n      <td>Nicholas Weisser</td>\n      <td>2003-05-01</td>\n      <td>2008-05-01</td>\n      <td>Vice President Hedge Fund Research,vice presid...</td>\n      <td>Deutsche Bank</td>\n      <td>DB</td>\n      <td>vp</td>\n    </tr>\n    <tr>\n      <td>151</td>\n      <td>48faa0ac-8979-3a8c-a03d-082116743505</td>\n      <td>Igor Vuckovecki</td>\n      <td>2006-10-01</td>\n      <td>2008-12-01</td>\n      <td>Operations Control,operations</td>\n      <td>Deutsche Bank</td>\n      <td>DB</td>\n      <td>other</td>\n    </tr>\n    <tr>\n      <td>163</td>\n      <td>d07b3a71-334c-3096-ba36-fe133b076d34</td>\n      <td>Trudee Wieting</td>\n      <td>2007-08-01</td>\n      <td>2015-01-01</td>\n      <td>Senior Accountant,senior accountant</td>\n      <td>Deutsche Bank</td>\n      <td>DB</td>\n      <td>accountant</td>\n    </tr>\n    <tr>\n      <td>171</td>\n      <td>17af99f0-f53d-3322-ac16-1b48509bab56</td>\n      <td>Jeremy Turner</td>\n      <td>2006-01-01</td>\n      <td>2010-01-01</td>\n      <td>Change and Release Manager,manager</td>\n      <td>Deutsche Bank</td>\n      <td>DB</td>\n      <td>manager</td>\n    </tr>\n    <tr>\n      <td>175</td>\n      <td>e8901225-2d2a-3681-8f30-bd4c26ac9f84</td>\n      <td>Christiane Petroff</td>\n      <td>2006-01-01</td>\n      <td>2009-01-01</td>\n      <td>Credit Analyst,credit analyst</td>\n      <td>Deutsche Bank</td>\n      <td>DB</td>\n      <td>analyst</td>\n    </tr>\n    <tr>\n      <td>186</td>\n      <td>3bb22436-f7e6-3a6c-8b17-e06987935b80</td>\n      <td>Michael Blackmon</td>\n      <td>2006-08-01</td>\n      <td>2015-11-01</td>\n      <td>Asst Vice President,vice president,assistant</td>\n      <td>Deutsche Bank</td>\n      <td>DB</td>\n      <td>vp</td>\n    </tr>\n    <tr>\n      <td>188</td>\n      <td>ee7fb0c7-1b9f-3457-abda-62f91d740386</td>\n      <td>Tracy Clopton</td>\n      <td>1998-07-01</td>\n      <td>2012-09-01</td>\n      <td>Operations Specialist,operations,specialist</td>\n      <td>Deutsche Bank</td>\n      <td>DB</td>\n      <td>specialist</td>\n    </tr>\n    <tr>\n      <td>201</td>\n      <td>35250bf9-c475-3118-8cc9-cd8f369a7613</td>\n      <td>Mark Dougan</td>\n      <td>2004-04-01</td>\n      <td>2009-06-01</td>\n      <td>Australia head of Global Credit Trading (GCT) ...</td>\n      <td>Deutsche Bank</td>\n      <td>DB</td>\n      <td>trader</td>\n    </tr>\n    <tr>\n      <td>209</td>\n      <td>c734c8a1-1e45-3d6c-9186-41819ae7d298</td>\n      <td>Nathan Tauro</td>\n      <td>2005-12-01</td>\n      <td>2010-07-01</td>\n      <td>Fixed Income Structured Credit and Capital Mkt...</td>\n      <td>Deutsche Bank</td>\n      <td>DB</td>\n      <td>other</td>\n    </tr>\n    <tr>\n      <td>213</td>\n      <td>909b55f7-56dd-35ec-b4f5-a1802c9d199b</td>\n      <td>luke hogg</td>\n      <td>2006-09-01</td>\n      <td>2008-08-01</td>\n      <td>Apprentice Fitter,apprentice,fitter</td>\n      <td>Deutsche Bahn</td>\n      <td>DB</td>\n      <td>intern</td>\n    </tr>\n    <tr>\n      <td>227</td>\n      <td>70b777da-4fb6-3909-886a-ed60b8aed6ef</td>\n      <td>allen vincent</td>\n      <td>2006-01-01</td>\n      <td>2008-03-01</td>\n      <td>Asia Pacific Head of Structured Trade Analysis...</td>\n      <td>Deutsche Bank</td>\n      <td>DB</td>\n      <td>manager</td>\n    </tr>\n    <tr>\n      <td>241</td>\n      <td>73ef6a4c-ba94-362c-85e7-6841f01de727</td>\n      <td>Joe Lourenco</td>\n      <td>2007-03-01</td>\n      <td>2008-02-01</td>\n      <td>IT Support Technician,it,support,technician</td>\n      <td>Deutsche Bank</td>\n      <td>DB</td>\n      <td>assistant</td>\n    </tr>\n    <tr>\n      <td>251</td>\n      <td>d7261130-9631-3359-8c3e-3addd35d86e9</td>\n      <td>John Venieris</td>\n      <td>2006-04-01</td>\n      <td>2009-08-01</td>\n      <td>Financial Advisor,financial advisor</td>\n      <td>Postbank</td>\n      <td>DB</td>\n      <td>advisor</td>\n    </tr>\n    <tr>\n      <td>254</td>\n      <td>eed2c616-f4b3-3d7a-93c8-76adf584bb43</td>\n      <td>Aklak Jaitapkar</td>\n      <td>2007-01-01</td>\n      <td>2014-01-01</td>\n      <td>Team Manager,team manager</td>\n      <td>Deutsche Bank</td>\n      <td>DB</td>\n      <td>manager</td>\n    </tr>\n    <tr>\n      <td>261</td>\n      <td>c73e6d9a-c4c4-38a6-8094-3d85738a0706</td>\n      <td>Alvin Thayil</td>\n      <td>2007-06-01</td>\n      <td>2008-08-01</td>\n      <td>Key Account Manager - Corporate Sales,key acco...</td>\n      <td>Deutsche Bank</td>\n      <td>DB</td>\n      <td>sale</td>\n    </tr>\n    <tr>\n      <td>271</td>\n      <td>eab86ab6-2be8-341b-83b8-1b2612409b17</td>\n      <td>Oliver Schaal</td>\n      <td>1999-02-01</td>\n      <td>2018-01-01</td>\n      <td>Vice President,vice president</td>\n      <td>Deutsche Bank</td>\n      <td>DB</td>\n      <td>vp</td>\n    </tr>\n    <tr>\n      <td>273</td>\n      <td>eab86ab6-2be8-341b-83b8-1b2612409b17</td>\n      <td>Oliver Schaal</td>\n      <td>2007-02-01</td>\n      <td>2009-02-01</td>\n      <td>Finance - Group wide Change Management,finance...</td>\n      <td>Deutsche Bank</td>\n      <td>DB</td>\n      <td>vp</td>\n    </tr>\n    <tr>\n      <td>279</td>\n      <td>1a9790ba-e47f-35bf-9543-01b9ce2c178a</td>\n      <td>Cassiel Shoben</td>\n      <td>2006-08-01</td>\n      <td>2008-03-01</td>\n      <td>Associate,associate</td>\n      <td>Deutsche Bank</td>\n      <td>DB</td>\n      <td>assoc</td>\n    </tr>\n    <tr>\n      <td>287</td>\n      <td>b2604665-6033-35f2-95dc-426e917c7a51</td>\n      <td>Melissa Champion</td>\n      <td>2007-01-01</td>\n      <td>2009-01-01</td>\n      <td>Fixed Income Operations Analyst,operations,ana...</td>\n      <td>Deutsche Bank</td>\n      <td>DB</td>\n      <td>analyst</td>\n    </tr>\n    <tr>\n      <td>298</td>\n      <td>ea96cf7e-6c0d-30ae-bc32-77e16b345517</td>\n      <td>Murugabharathy Ayyappan ,CSM</td>\n      <td>2004-07-01</td>\n      <td>2008-03-01</td>\n      <td>Technical lead- IBIT -Fixed IncomeSingapore,te...</td>\n      <td>Deutsche Bank</td>\n      <td>DB</td>\n      <td>manager</td>\n    </tr>\n    <tr>\n      <td>311</td>\n      <td>631fce74-d144-3cf2-944f-ee6b70d65064</td>\n      <td>Sanjukta De</td>\n      <td>2006-02-01</td>\n      <td>2009-09-01</td>\n      <td>Manager - Compliance Operations including AML ...</td>\n      <td>Deutsche Bank</td>\n      <td>DB</td>\n      <td>manager</td>\n    </tr>\n    <tr>\n      <td>325</td>\n      <td>73fd9e57-90c5-3a77-9536-f66d0565822a</td>\n      <td>Jeremy Beard</td>\n      <td>2001-09-01</td>\n      <td>2008-10-01</td>\n      <td>Director,director</td>\n      <td>Deutsche Bank</td>\n      <td>DB</td>\n      <td>director</td>\n    </tr>\n    <tr>\n      <td>328</td>\n      <td>1980dee9-cf26-3391-b2d0-ccccc607c91e</td>\n      <td>Leonie Hofstee</td>\n      <td>2007-09-01</td>\n      <td>2008-05-01</td>\n      <td>Adviseur Levensverzekeringen,adviseur</td>\n      <td>Postbank</td>\n      <td>DB</td>\n      <td>advisor</td>\n    </tr>\n    <tr>\n      <td>340</td>\n      <td>7f38999b-a457-3b04-aeca-57343b411f49</td>\n      <td>Paolo Scala</td>\n      <td>2003-07-01</td>\n      <td>2009-12-01</td>\n      <td>Business Area Controller Private Wealth Manage...</td>\n      <td>Deutsche Bank</td>\n      <td>DB</td>\n      <td>controller</td>\n    </tr>\n    <tr>\n      <td>349</td>\n      <td>56a232d6-010b-38e5-9dc0-f2fabda12ec5</td>\n      <td>Andy Couldrake</td>\n      <td>1996-06-01</td>\n      <td>2009-06-01</td>\n      <td>Software Developer,software developer</td>\n      <td>Deutsche Bank</td>\n      <td>DB</td>\n      <td>developer</td>\n    </tr>\n    <tr>\n      <td>358</td>\n      <td>03c35978-f634-393b-ad03-6438a62f8145</td>\n      <td>Ashutosh Mishra</td>\n      <td>2004-04-01</td>\n      <td>2009-11-01</td>\n      <td>Director &amp; Head - Flow Sales,director,head,sales</td>\n      <td>Deutsche Bank</td>\n      <td>DB</td>\n      <td>director</td>\n    </tr>\n    <tr>\n      <td>364</td>\n      <td>06dc9356-c422-36f5-9366-926f1f9d4e3c</td>\n      <td>Marievic Tecson</td>\n      <td>2007-04-01</td>\n      <td>2015-09-01</td>\n      <td>Business Analyst,business analyst</td>\n      <td>Deutsche Bank</td>\n      <td>DB</td>\n      <td>analyst</td>\n    </tr>\n    <tr>\n      <td>374</td>\n      <td>aadb146e-adfd-3d75-a7a4-8b29b09bbe62</td>\n      <td>Ashutosh Mishra</td>\n      <td>2004-04-01</td>\n      <td>2009-11-01</td>\n      <td>Director &amp; Head - Flow Sales,director,head,sales</td>\n      <td>Deutsche Bank</td>\n      <td>DB</td>\n      <td>director</td>\n    </tr>\n    <tr>\n      <td>382</td>\n      <td>2bac458a-bc43-33ea-878f-1ab503564aa0</td>\n      <td>Charlotte Bouter</td>\n      <td>2004-06-01</td>\n      <td>2008-10-01</td>\n      <td>Medewerker Bijzonder Beheer Postbank Hypotheke...</td>\n      <td>Postbank</td>\n      <td>DB</td>\n      <td>other</td>\n    </tr>\n    <tr>\n      <td>392</td>\n      <td>94e2ea42-06f5-3245-972f-b90fbedd8069</td>\n      <td>Ilya Nikitin</td>\n      <td>2006-05-01</td>\n      <td>2016-03-01</td>\n      <td>Director,director</td>\n      <td>Deutsche Bank</td>\n      <td>DB</td>\n      <td>director</td>\n    </tr>\n    <tr>\n      <td>398</td>\n      <td>fee07d09-0faa-31b7-a45d-683a2d955ee4</td>\n      <td>Julian Wiegmann</td>\n      <td>2007-04-01</td>\n      <td>2010-03-01</td>\n      <td>Network Security Services,network,security,ser...</td>\n      <td>Deutsche Bank</td>\n      <td>DB</td>\n      <td>assistant</td>\n    </tr>\n    <tr>\n      <td>411</td>\n      <td>1367fdc9-eaf9-352c-8e01-5a878d82b71a</td>\n      <td>Kerem Tezcan</td>\n      <td>2007-03-01</td>\n      <td>2012-09-01</td>\n      <td>Analyst Director,analyst,\",\",director</td>\n      <td>Deutsche Bank</td>\n      <td>DB</td>\n      <td>director</td>\n    </tr>\n    <tr>\n      <td>417</td>\n      <td>93809d00-1156-38cb-9868-bfb898d1e581</td>\n      <td>Erdi Dogruel</td>\n      <td>2007-08-01</td>\n      <td>2008-07-01</td>\n      <td>One-Year internship</td>\n      <td>Deutsche Bank</td>\n      <td>DB</td>\n      <td>intern</td>\n    </tr>\n    <tr>\n      <td>430</td>\n      <td>ca322f39-0840-3d05-bbfc-1f6d01e605cb</td>\n      <td>Glen Gregorio</td>\n      <td>2002-06-01</td>\n      <td>2010-07-01</td>\n      <td>Vice President Credit Trading,vice president,\"...</td>\n      <td>Deutsche Bank</td>\n      <td>DB</td>\n      <td>vp</td>\n    </tr>\n    <tr>\n      <td>440</td>\n      <td>73237293-fc2e-3497-be70-0126d99dc179</td>\n      <td>Ting Louie</td>\n      <td>2007-01-01</td>\n      <td>2011-01-01</td>\n      <td>Investment Banker,banker</td>\n      <td>Deutsche Bank</td>\n      <td>DB</td>\n      <td>banker</td>\n    </tr>\n    <tr>\n      <td>448</td>\n      <td>abc2e8fc-4303-3879-9b7f-019d8b662015</td>\n      <td>Eileen Becker</td>\n      <td>2007-10-01</td>\n      <td>2012-08-01</td>\n      <td>Referentin</td>\n      <td>Deutsche Bahn</td>\n      <td>DB</td>\n      <td>other</td>\n    </tr>\n  </tbody>\n</table>\n</div>"
     },
     "metadata": {},
     "output_type": "execute_result",
     "execution_count": 8
    }
   ],
   "source": [
    "all_data['job_category'] = all_data.user.apply(lambda x: full_mapping[x])\n",
    "\n",
    "all_data.head(50)"
   ]
  },
  {
   "cell_type": "code",
   "execution_count": 9,
   "metadata": {
    "pycharm": {
     "is_executing": false
    }
   },
   "outputs": [],
   "source": [
    "#all_data.to_csv('./Deliverables/all_data_categorized.csv')"
   ]
  }
 ],
 "metadata": {
  "kernelspec": {
   "display_name": "Python 3",
   "language": "python",
   "name": "python3"
  },
  "language_info": {
   "codemirror_mode": {
    "name": "ipython",
    "version": 3
   },
   "file_extension": ".py",
   "mimetype": "text/x-python",
   "name": "python",
   "nbconvert_exporter": "python",
   "pygments_lexer": "ipython3",
   "version": "3.7.3"
  },
  "pycharm": {
   "stem_cell": {
    "cell_type": "raw",
    "metadata": {
     "collapsed": false
    },
    "source": []
   }
  }
 },
 "nbformat": 4,
 "nbformat_minor": 1
}