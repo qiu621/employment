{
 "cells": [
  {
   "cell_type": "code",
   "execution_count": 50,
   "metadata": {
    "pycharm": {
     "is_executing": true
    }
   },
   "outputs": [],
   "source": [
    "import pandas as pd\n",
    "from collections import defaultdict\n",
    "import numpy as np"
   ]
  },
  {
   "cell_type": "code",
   "execution_count": 51,
   "metadata": {
    "pycharm": {
     "is_executing": true
    }
   },
   "outputs": [],
   "source": [
    "def main(csv_file):\n",
    "    \"\"\"\n",
    "    Given an appropriate csv_file, output the relevant columns.\n",
    "\n",
    "    Returns df with columns [user, start, end, normalized_company, industry]\n",
    "    \"\"\"\n",
    "\n",
    "    employ_data = pd.read_csv(csv_file, sep=\"\\t\", header=None,\n",
    "                              names=[i for i in range(34)], low_memory=False)\n",
    "    # column info from taxonomy file\n",
    "    name = ['user', 'name', 'birth', 'gender', 'primary',\n",
    "            'primary_weight', 'secondary', 'secondary_weight',\n",
    "            'city', 'country', 'education', 'elite', 'start',\n",
    "            '.', 'end', '??', '/', 'length', 'role', 'department',\n",
    "            'company', 'normalized_company', 'ticker', 'exchange',\n",
    "            'public', 'location_company', 'industry', 'educational',\n",
    "            'degree', 'elite_education', 'major', 'department', 'FIGI',\n",
    "            'last_update']\n",
    "#     drop = ['length', 'gender', 'primary',\n",
    "#         'primary_weight', 'secondary', 'secondary_weight',\n",
    "#         'city', 'country', 'education', 'elite', '.', '??',\n",
    "#         '/', 'department', 'exchange',\n",
    "#         'public', 'location_company', 'educational', 'degree', 'elite_education',\n",
    "#         'major', 'department', 'FIGI', 'last_update']\n",
    "    employ_data.columns = name\n",
    "    return employ_data\n",
    "\n",
    "\n",
    "# data without datetime features, and none values for some dates\n",
    "raw_data = {'db': main('./Data/DB_profiles.csv'),\n",
    "            'gs': main('./Data/GS_profiles.csv'),\n",
    "            'leh': main('./Data/LEH_profiles.csv'),\n",
    "            'ms': main('./Data/MS_profiles.csv'),\n",
    "            'ubs': main('./Data/UBS_profiles.csv')\n",
    "            }"
   ]
  },
  {
   "cell_type": "code",
   "execution_count": 168,
   "metadata": {},
   "outputs": [
    {
     "data": {
      "text/html": [
       "<div>\n",
       "<style scoped>\n",
       "    .dataframe tbody tr th:only-of-type {\n",
       "        vertical-align: middle;\n",
       "    }\n",
       "\n",
       "    .dataframe tbody tr th {\n",
       "        vertical-align: top;\n",
       "    }\n",
       "\n",
       "    .dataframe thead th {\n",
       "        text-align: right;\n",
       "    }\n",
       "</style>\n",
       "<table border=\"1\" class=\"dataframe\">\n",
       "  <thead>\n",
       "    <tr style=\"text-align: right;\">\n",
       "      <th></th>\n",
       "      <th>start</th>\n",
       "      <th>end</th>\n",
       "      <th>company</th>\n",
       "    </tr>\n",
       "  </thead>\n",
       "  <tbody>\n",
       "    <tr>\n",
       "      <td>40336</td>\n",
       "      <td>1986-01-01</td>\n",
       "      <td>1990-01-01</td>\n",
       "      <td>-</td>\n",
       "    </tr>\n",
       "    <tr>\n",
       "      <td>40337</td>\n",
       "      <td>1990-01-01</td>\n",
       "      <td>1993-12-01</td>\n",
       "      <td>TIME_OFF</td>\n",
       "    </tr>\n",
       "    <tr>\n",
       "      <td>40338</td>\n",
       "      <td>1994-01-01</td>\n",
       "      <td>2004-08-01</td>\n",
       "      <td>Morgan Stanley</td>\n",
       "    </tr>\n",
       "    <tr>\n",
       "      <td>40339</td>\n",
       "      <td>2004-08-01</td>\n",
       "      <td>2006-03-01</td>\n",
       "      <td>Credit Suisse</td>\n",
       "    </tr>\n",
       "    <tr>\n",
       "      <td>40340</td>\n",
       "      <td>2006-01-01</td>\n",
       "      <td>2008-01-01</td>\n",
       "      <td>Morgan Stanley</td>\n",
       "    </tr>\n",
       "    <tr>\n",
       "      <td>40341</td>\n",
       "      <td>2007-03-01</td>\n",
       "      <td>2009-03-01</td>\n",
       "      <td>Lehman Brothers</td>\n",
       "    </tr>\n",
       "    <tr>\n",
       "      <td>40342</td>\n",
       "      <td>2009-03-01</td>\n",
       "      <td>2016-08-01</td>\n",
       "      <td>Citigroup</td>\n",
       "    </tr>\n",
       "    <tr>\n",
       "      <td>40343</td>\n",
       "      <td>2016-09-01</td>\n",
       "      <td>2018-01-01</td>\n",
       "      <td>PM Strategic Solutions, LLC</td>\n",
       "    </tr>\n",
       "    <tr>\n",
       "      <td>40344</td>\n",
       "      <td>2018-02-01</td>\n",
       "      <td>2018-01-01</td>\n",
       "      <td>Barclays Investment Bank</td>\n",
       "    </tr>\n",
       "  </tbody>\n",
       "</table>\n",
       "</div>"
      ],
      "text/plain": [
       "           start        end                      company\n",
       "40336 1986-01-01 1990-01-01                            -\n",
       "40337 1990-01-01 1993-12-01                     TIME_OFF\n",
       "40338 1994-01-01 2004-08-01               Morgan Stanley\n",
       "40339 2004-08-01 2006-03-01                Credit Suisse\n",
       "40340 2006-01-01 2008-01-01               Morgan Stanley\n",
       "40341 2007-03-01 2009-03-01              Lehman Brothers\n",
       "40342 2009-03-01 2016-08-01                    Citigroup\n",
       "40343 2016-09-01 2018-01-01  PM Strategic Solutions, LLC\n",
       "40344 2018-02-01 2018-01-01     Barclays Investment Bank"
      ]
     },
     "execution_count": 168,
     "metadata": {},
     "output_type": "execute_result"
    }
   ],
   "source": [
    "leh[leh.user == 'c166dfbb-635e-350d-bb01-6dd831239ad8'].loc[:, ['start', 'end', 'company']]"
   ]
  },
  {
   "cell_type": "code",
   "execution_count": 167,
   "metadata": {},
   "outputs": [
    {
     "data": {
      "text/html": [
       "<div>\n",
       "<style scoped>\n",
       "    .dataframe tbody tr th:only-of-type {\n",
       "        vertical-align: middle;\n",
       "    }\n",
       "\n",
       "    .dataframe tbody tr th {\n",
       "        vertical-align: top;\n",
       "    }\n",
       "\n",
       "    .dataframe thead th {\n",
       "        text-align: right;\n",
       "    }\n",
       "</style>\n",
       "<table border=\"1\" class=\"dataframe\">\n",
       "  <thead>\n",
       "    <tr style=\"text-align: right;\">\n",
       "      <th></th>\n",
       "      <th>start</th>\n",
       "      <th>end</th>\n",
       "      <th>company</th>\n",
       "    </tr>\n",
       "  </thead>\n",
       "  <tbody>\n",
       "    <tr>\n",
       "      <td>53819</td>\n",
       "      <td>1986-01-01</td>\n",
       "      <td>1990-01-01</td>\n",
       "      <td>-</td>\n",
       "    </tr>\n",
       "    <tr>\n",
       "      <td>53820</td>\n",
       "      <td>1990-01-01</td>\n",
       "      <td>1993-12-01</td>\n",
       "      <td>TIME_OFF</td>\n",
       "    </tr>\n",
       "    <tr>\n",
       "      <td>53821</td>\n",
       "      <td>1994-01-01</td>\n",
       "      <td>2004-08-01</td>\n",
       "      <td>Morgan Stanley</td>\n",
       "    </tr>\n",
       "    <tr>\n",
       "      <td>53822</td>\n",
       "      <td>2004-08-01</td>\n",
       "      <td>2006-03-01</td>\n",
       "      <td>Credit Suisse</td>\n",
       "    </tr>\n",
       "    <tr>\n",
       "      <td>53823</td>\n",
       "      <td>2006-01-01</td>\n",
       "      <td>2008-01-01</td>\n",
       "      <td>Morgan Stanley</td>\n",
       "    </tr>\n",
       "    <tr>\n",
       "      <td>53824</td>\n",
       "      <td>2007-03-01</td>\n",
       "      <td>2009-03-01</td>\n",
       "      <td>Lehman Brothers</td>\n",
       "    </tr>\n",
       "    <tr>\n",
       "      <td>53825</td>\n",
       "      <td>2009-03-01</td>\n",
       "      <td>2016-08-01</td>\n",
       "      <td>Citigroup</td>\n",
       "    </tr>\n",
       "    <tr>\n",
       "      <td>53826</td>\n",
       "      <td>2016-09-01</td>\n",
       "      <td>2018-01-01</td>\n",
       "      <td>PM Strategic Solutions, LLC</td>\n",
       "    </tr>\n",
       "    <tr>\n",
       "      <td>53827</td>\n",
       "      <td>2018-02-01</td>\n",
       "      <td>2018-01-01</td>\n",
       "      <td>Barclays Investment Bank</td>\n",
       "    </tr>\n",
       "  </tbody>\n",
       "</table>\n",
       "</div>"
      ],
      "text/plain": [
       "           start        end                      company\n",
       "53819 1986-01-01 1990-01-01                            -\n",
       "53820 1990-01-01 1993-12-01                     TIME_OFF\n",
       "53821 1994-01-01 2004-08-01               Morgan Stanley\n",
       "53822 2004-08-01 2006-03-01                Credit Suisse\n",
       "53823 2006-01-01 2008-01-01               Morgan Stanley\n",
       "53824 2007-03-01 2009-03-01              Lehman Brothers\n",
       "53825 2009-03-01 2016-08-01                    Citigroup\n",
       "53826 2016-09-01 2018-01-01  PM Strategic Solutions, LLC\n",
       "53827 2018-02-01 2018-01-01     Barclays Investment Bank"
      ]
     },
     "execution_count": 167,
     "metadata": {},
     "output_type": "execute_result"
    }
   ],
   "source": [
    "ms[ms.user == 'c166dfbb-635e-350d-bb01-6dd831239ad8'].loc[:, ['start', 'end', 'company']]"
   ]
  },
  {
   "cell_type": "code",
   "execution_count": 159,
   "metadata": {},
   "outputs": [],
   "source": [
    "leh = raw_data['leh']"
   ]
  },
  {
   "cell_type": "code",
   "execution_count": 162,
   "metadata": {},
   "outputs": [],
   "source": [
    "ms = raw_data['ms']"
   ]
  },
  {
   "cell_type": "code",
   "execution_count": null,
   "metadata": {
    "pycharm": {
     "is_executing": true
    }
   },
   "outputs": [],
   "source": [
    "def standardize_dates(company, missing_start = '1900-01-01', missing_end = '2018-01-01'):\n",
    "    \"\"\"\n",
    "    Converts start date and end date to datetime objects, and converts None values to the specified missing \n",
    "    dates.\n",
    "\n",
    "    Returns the modified dataframe\n",
    "    \"\"\"\n",
    "    company_data = raw_data[company].copy()\n",
    "    company_data['start'] = company_data['start'].str.replace('None', missing_start)\n",
    "    company_data['end'] = company_data['end'].str.replace('None', missing_end)\n",
    "    company_data['start'] = pd.to_datetime(company_data['start'])\n",
    "    company_data['end'] = pd.to_datetime(company_data['end'])\n",
    "    return company_data\n",
    "\n",
    "\n",
    "# set up dictionary to hold data for each company\n",
    "\n",
    "for company in raw_data.keys():\n",
    "    raw_data[company] = standardize_dates(company)"
   ]
  },
  {
   "cell_type": "code",
   "execution_count": 53,
   "metadata": {
    "pycharm": {
     "is_executing": true
    }
   },
   "outputs": [],
   "source": [
    "def get_users(company_name, company_data, worked_date = '2008-01-01', missing_start = '1900-01-01', missing_end = '2018-01-01'):\n",
    "    \"\"\"\"\n",
    "    Returns the users who worked at a given company on worked_date, that does not have both start and\n",
    "    end dates missing\n",
    "    \n",
    "    worked_date: string specifying the date on which to extract employees from. \n",
    "                 Must be coercible into a datetime object\n",
    "    missing_start: default value for missing start dates\n",
    "    missing_end: default value for missing end dates\n",
    "    \"\"\"\n",
    "    worked_date = pd.to_datetime(worked_date)\n",
    "    missing_start = pd.to_datetime(missing_start)\n",
    "    missing_end = pd.to_datetime(missing_end)\n",
    "    x = company_data\n",
    "    \n",
    "    company_tickers = {'db': 'DB', 'leh': 'LEH', 'gs': 'GS', 'ms': 'MS^E', 'ubs': 'UBS'}\n",
    "    # conditions: start and end not both missing, worked before/after 2008-01-01, ticker matches company\n",
    "    mask = ~((x['start'] == missing_start) & (x['end'] == missing_end)) & \\\n",
    "        (x['start'] < worked_date) & \\\n",
    "        (x['end'] > worked_date) & \\\n",
    "        (x['ticker'] == company_tickers[company_name])\n",
    "    return company_data[mask]['user'].unique()\n",
    "\n",
    "\n",
    "# gets the user_ids within each company that match the conditioning, before and and after\n",
    "#   2008-01-01, exclusive\n",
    "users = {company_name: get_users(company_name, company_data) for company_name, company_data in raw_data.items()}"
   ]
  },
  {
   "cell_type": "code",
   "execution_count": 54,
   "metadata": {
    "pycharm": {
     "is_executing": true
    }
   },
   "outputs": [],
   "source": [
    "data = {}\n",
    "for company, company_data in raw_data.items():\n",
    "    company_users = users[company]\n",
    "    data[company] = company_data[company_data['user'].isin(company_users)]"
   ]
  },
  {
   "cell_type": "markdown",
   "metadata": {},
   "source": [
    "# Missing industries"
   ]
  },
  {
   "cell_type": "code",
   "execution_count": 55,
   "metadata": {
    "pycharm": {
     "is_executing": true
    }
   },
   "outputs": [],
   "source": [
    "# read all the csv files\n",
    "profile = pd.read_csv('./Data/profile_industry_mappings.csv', header=None, names=[i for i in range(5)], dtype={4: str})\n",
    "profile.drop([0, 2], axis='columns', inplace=True)\n",
    "profile.rename(mapper={1: 'company', 3: 'norm', 4: \"ind\"}, axis='columns', inplace=True)\n",
    "\n",
    "mturk = pd.read_csv('./Data/industries_MTurkers_20170711.csv', header=None, encoding='latin-1')\n",
    "mturk.drop([1], axis='columns', inplace=True)\n",
    "mturk.rename(mapper={0: 'company', 2: \"ind\"}, axis='columns', inplace=True)\n",
    "\n",
    "finance = pd.read_csv('./Data/Finance.csv', dtype={'Industry': str})\n",
    "finance.drop([finance.columns[0], finance.columns[2], finance.columns[4]], axis='columns', inplace=True)\n",
    "finance.rename(mapper={'Normalized Company Name': 'norm', 'Industry': \"ind\"}, axis='columns', inplace=True)\n",
    "\n",
    "manual = pd.read_csv('./Data/manual_industry_mappings.csv', encoding='latin-1', header=None, dtype={2: str})\n",
    "manual.drop([1], axis='columns', inplace=True)\n",
    "manual.rename(mapper={0: 'norm', 2: \"ind\"}, axis='columns', inplace=True)\n",
    "\n",
    "industries_2019 = pd.read_csv('./Data/missing_industries_2019.csv', header=None, dtype={2: str})\n",
    "industries_2019 = industries_2019[~(industries_2019[1] == 1)].copy()\n",
    "\n",
    "industries_2019.drop([1], axis = 'columns', inplace = True)\n",
    "industries_2019.rename(mapper={0: 'company', 2: \"ind\"}, axis='columns', inplace=True)\n",
    "industries_2019 = industries_2019[~pd.isnull(industries_2019.ind)].copy()"
   ]
  },
  {
   "cell_type": "code",
   "execution_count": 56,
   "metadata": {
    "pycharm": {
     "is_executing": true
    }
   },
   "outputs": [],
   "source": [
    "#mturk industry is given as \"ind_x\", profile industry is given as \"ind_y\"\n",
    "company_comb = pd.merge(mturk, profile, on='company', how='outer')\n",
    "#prioritize mturk data\n",
    "company_comb['combined'] = company_comb['ind_x'].combine_first(company_comb['ind_y'])\n",
    "\n",
    "#mturk industry is given as \"ind\", profile industry is given as \"combined\"\n",
    "company_comb = pd.merge(industries_2019, company_comb, on='company', how='outer')\n",
    "#prioritize manual entry data\n",
    "company_comb['combined'] = company_comb['ind'].combine_first(company_comb['combined'])"
   ]
  },
  {
   "cell_type": "code",
   "execution_count": 57,
   "metadata": {
    "pycharm": {
     "is_executing": true
    }
   },
   "outputs": [],
   "source": [
    "#merge manual and finance files, prioritizing manual\n",
    "norm_comb = pd.merge(manual, finance, on = 'norm', how = 'outer')\n",
    "norm_comb['combined'] = norm_comb['ind_x'].combine_first(norm_comb['ind_y'])\n",
    "#merge manual/finance and profile[norm], prioritizing manual/finance\n",
    "norm_comb = pd.merge(norm_comb, profile, on = 'norm', how = 'outer')\n",
    "norm_comb['combined'] = norm_comb['combined'].combine_first(norm_comb['ind'])"
   ]
  },
  {
   "cell_type": "code",
   "execution_count": 58,
   "metadata": {
    "pycharm": {
     "is_executing": true
    }
   },
   "outputs": [],
   "source": [
    "# convert the columns of the aggredated dataframe into a dictionary where the key is the company name\n",
    "# and the value is the industry code\n",
    "norm_mapping = dict(zip(norm_comb.norm, norm_comb.combined))\n",
    "company_mapping = dict(zip(company_comb.company, company_comb.combined))\n",
    "# set the default value if the company is not found to NaN\n",
    "norm_mapping = defaultdict(lambda: np.NaN, norm_mapping)\n",
    "company_mapping = defaultdict(lambda: np.NaN, company_mapping)"
   ]
  },
  {
   "cell_type": "code",
   "execution_count": 59,
   "metadata": {
    "pycharm": {
     "is_executing": true
    }
   },
   "outputs": [],
   "source": [
    "def filter_manual(company_data):\n",
    "    \"\"\"\n",
    "    Adds industry labels to entries that don't have one, based on the manual industry data\n",
    "    \"\"\"\n",
    "    company_data = company_data.copy()\n",
    "    # convert to lowercase for more accurate matching\n",
    "    company_data['normalized_company_lower'] = company_data['normalized_company'].str.lower()\n",
    "    company_data['company_lower'] = company_data['company'].str.lower()\n",
    "    # apply norm_mapping and company_mapping to upper and lower case versions\n",
    "    company_data['company_mapped'] = company_data['company'].apply(lambda y: company_mapping[y])\n",
    "    company_data['normalized_company_mapped'] = company_data['normalized_company'].apply(lambda y: norm_mapping[y])\n",
    "    company_data['company_lower_mapped'] = company_data['normalized_company_lower'].apply(lambda y: norm_mapping[y])\n",
    "    company_data['normalized_company_lower_mapped'] = company_data['normalized_company_lower'].apply(lambda y: norm_mapping[y])\n",
    "    # combines all mappings. Prioritize Existing industry code > MTurk/profle(company) > \n",
    "    # manual/finance/profile(normalized_company) > manual/finance/profile(normalized_company_lower) \n",
    "    company_data['industry_two'] = company_data['industry'].combine_first(company_data['company_mapped'])\n",
    "    company_data['industry_three'] = company_data['industry_two'].combine_first(company_data['normalized_company_mapped'])\n",
    "    company_data['industry_four'] = company_data['industry_three'].combine_first(company_data['company_lower_mapped'])\n",
    "    company_data['industry_five'] = company_data['industry_four'].combine_first(company_data['normalized_company_lower_mapped'])\n",
    "    company_data['industry'] = company_data['industry_five']\n",
    "    # drop the temporary columns\n",
    "    company_data.drop(['normalized_company_lower', 'company_lower', 'company_mapped', 'normalized_company_mapped', 'company_lower_mapped','normalized_company_lower_mapped', 'industry_two', 'industry_three', 'industry_four','industry_five'], axis=1, inplace=True)\n",
    "    return company_data\n",
    "\n",
    "def mask(company_data):\n",
    "    \"\"\"\n",
    "    Return values in the time range with start before '2016-1-1' and end after '2016-1-1'.\n",
    "\n",
    "    Excludes values that don't have a start or end time, or are educational.\n",
    "    \"\"\"\n",
    "    mask = (company_data['start'] <= pd.to_datetime('2016-1-1')) & (company_data['end'] >= pd.to_datetime('2016-1-1')) & ~((company_data['start'] == pd.to_datetime('1900-01-01')) & (company_data['end'] == pd.to_datetime('2018-01-01'))) & (~company_data['ticker'].isin(['UNIVERSITY', 'SCHOOL']) & ~(company_data.educational))\n",
    "    #& ~(pd.isnull(company_data.industry))\n",
    "    return company_data[mask]\n",
    "\n",
    "\n",
    "def filter_and_mask(company_data):\n",
    "    # combines filter and mask\n",
    "    filtered = filter_manual(company_data)\n",
    "    return mask(filtered)\n"
   ]
  },
  {
   "cell_type": "markdown",
   "metadata": {},
   "source": [
    "# Missing Industry"
   ]
  },
  {
   "cell_type": "code",
   "execution_count": 60,
   "metadata": {
    "pycharm": {
     "is_executing": true
    }
   },
   "outputs": [],
   "source": [
    "# def mask_missing(company_data):\n",
    "#     \"\"\"\n",
    "#     Return values in the time range with start before '2016-1-1' and end after '2016-1-1'.\n",
    "\n",
    "#     Excludes values that don't have a start or end time.\n",
    "#     \"\"\"\n",
    "    \n",
    "#     mask = (company_data['start'] < pd.to_datetime('2016-1-1')) & (company_data['end'] > pd.to_datetime('2016-1-1')) & (company_data['start'] != pd.to_datetime('1900-01-01')) & (~company_data['ticker'].isin(['UNIVERSITY', 'TIME_OFF', 'SCHOOL', 'MISSING', 'FREELANCE', 'UNEMPLOYED', 'RETIRED']))\n",
    "#     return company_data[mask]\n",
    "\n",
    "# all_data =  pd.concat(raw_data.values())\n",
    "\n",
    "# company_data = mask_missing(all_data).copy()\n",
    "\n",
    "# company_data['normalized_company_lower'] = company_data['normalized_company'].str.lower()\n",
    "# company_data['company_lower'] = company_data['company'].str.lower()\n",
    "# # apply norm_mapping and company_mapping to upper and lower case versions\n",
    "# company_data['company_mapped'] = company_data['company'].apply(lambda y: company_mapping[y])\n",
    "# company_data['normalized_company_mapped'] = company_data['normalized_company'].apply(lambda y: norm_mapping[y])\n",
    "# company_data['company_lower_mapped'] = company_data['normalized_company_lower'].apply(lambda y: norm_mapping[y])\n",
    "# company_data['normalized_company_lower_mapped'] = company_data['normalized_company_lower'].apply(lambda y: norm_mapping[y])\n",
    "# # combines all mappings. Prioritize Existing industry code > MTurk/profle(company) > \n",
    "# # manual/finance/profile(normalized_company) > manual/finance/profile(normalized_company_lower) \n",
    "# company_data['industry_two'] = company_data['industry'].combine_first(company_data['company_mapped'])\n",
    "# company_data['industry_three'] = company_data['industry_two'].combine_first(company_data['normalized_company_mapped'])\n",
    "# company_data['industry_four'] = company_data['industry_three'].combine_first(company_data['company_lower_mapped'])\n",
    "# company_data['industry_five'] = company_data['industry_four'].combine_first(company_data['normalized_company_lower_mapped'])\n",
    "# company_data['industry'] = company_data['industry_five']\n",
    "# # drop the temporary columns\n",
    "# company_data.drop(['company_mapped', 'normalized_company_mapped', 'company_lower_mapped','normalized_company_lower_mapped', 'industry_two', 'industry_three', 'industry_four','industry_five'], axis=1, inplace=True)\n",
    "\n",
    "# x = company_data.groupby('user').last()\n",
    "# most_recent_missing = x[pd.isnull(x['industry'])]\n",
    "\n",
    "#most_recent_missing['company'].value_counts().to_csv('./Deliverables/missing_values.csv')"
   ]
  },
  {
   "cell_type": "markdown",
   "metadata": {},
   "source": [
    "# Matching with missing job entries as of 2016-1-1"
   ]
  },
  {
   "cell_type": "code",
   "execution_count": 61,
   "metadata": {
    "pycharm": {
     "is_executing": true
    }
   },
   "outputs": [],
   "source": [
    "# begin matching on job titles, prepare data by dropping irrelevant names\n",
    "drop = ['length', 'gender', 'primary',\n",
    "        'primary_weight', 'secondary', 'secondary_weight',\n",
    "        'city', 'country', 'education', 'elite', '.', '??',\n",
    "        '/', 'department', 'exchange',\n",
    "        'public', 'location_company', 'educational', 'degree', 'elite_education',\n",
    "        'major', 'department', 'FIGI', 'last_update', 'industry', 'birth', 'company']\n",
    "matching_data = {company_name: company_data.drop(labels=drop, axis=1) for company_name, company_data in data.items()}\n",
    "\n",
    "\n",
    "def job_2008(company_name, company_data):\n",
    "    \"\"\"\"\n",
    "    Return each user's job at the given company as of 2008-01-01\n",
    "    \"\"\"\n",
    "    date_2008 = pd.to_datetime('2008-01-01')\n",
    "    missing_start = pd.to_datetime('1900-01-01')\n",
    "    missing_end = pd.to_datetime('2018-01-01')\n",
    "\n",
    "    company_tickers = {'db': 'DB', 'leh': 'LEH', 'gs': 'GS', 'ms': 'MS^E', 'ubs': 'UBS'}\n",
    "\n",
    "    x = company_data\n",
    "    mask = ~((x['start'] == missing_start) & (x['end'] == missing_end)) & \\\n",
    "           (x['start'] < date_2008) & \\\n",
    "           (x['end'] > date_2008) & \\\n",
    "           (x['ticker'] == company_tickers[company_name])\n",
    "    return company_data[mask]\n",
    "\n",
    "\n",
    "job_as_of_2008 = {company_name: job_2008(company_name, company_data) for company_name, company_data in\n",
    "                  matching_data.items()}"
   ]
  },
  {
   "cell_type": "code",
   "execution_count": 62,
   "metadata": {
    "pycharm": {
     "is_executing": true
    }
   },
   "outputs": [],
   "source": [
    "all_data = pd.concat(job_as_of_2008.values())\n",
    "# only person missing a role in the entire data set\n",
    "all_data = all_data.drop(11512)\n",
    "\n",
    "# begin extracting job titles\n",
    "directors = set(all_data[(all_data.role.str.contains(r'director|MD,md', case=False))\n",
    "                         | (all_data.role.str.match(r'ed|md', case=False))].user)\n",
    "all_roles = directors.copy()\n",
    "\n",
    "analysts = set(all_data[all_data.role.str.contains('analyst|Anaylst', case=False)].user).difference(all_roles)\n",
    "all_roles = all_roles.union(analysts)\n",
    "\n",
    "vps = set(all_data[all_data.role.str.contains('president|vp', case=False)].user).difference(all_roles)\n",
    "all_roles = all_roles.union(vps)\n",
    "\n",
    "assocs = set(all_data[all_data.role.str.contains('associate', case=False)].user).difference(all_roles)\n",
    "all_roles = all_roles.union(assocs)\n",
    "\n",
    "accountants = set(\n",
    "    all_data[all_data.role.str.contains('accountant|account executive|accounting', case=False)].user).difference(\n",
    "    all_roles)\n",
    "all_roles = all_roles.union(accountants)\n",
    "\n",
    "consultants = set(all_data[all_data.role.str.contains('consultant', case=False)].user).difference(all_roles)\n",
    "all_roles = all_roles.union(consultants)\n",
    "\n",
    "missing = set(all_data[all_data.role.str.match(r'-|\\?|\\.', case=False)].user).difference(all_roles)\n",
    "all_roles = all_roles.union(missing)\n",
    "\n",
    "developers = set(\n",
    "    all_data[all_data.role.str.contains(r'developer|engineer|system administrator', case=False)].user).difference(\n",
    "    all_roles)\n",
    "all_roles = all_roles.union(developers)\n",
    "\n",
    "interns = set(all_data[all_data.role.str.contains('intern|trainee|apprentice', case=False)].user).difference(all_roles)\n",
    "all_roles = all_roles.union(interns)\n",
    "\n",
    "specialists = set(\n",
    "    all_data[all_data.role.str.contains('specialist|administrator|research|expert', case=False)].user).difference(\n",
    "    all_roles)\n",
    "all_roles = all_roles.union(specialists)\n",
    "\n",
    "sales = set(all_data[all_data.role.str.contains('sales', case=False)].user).difference(all_roles)\n",
    "all_roles = all_roles.union(sales)\n",
    "\n",
    "traders = set(all_data[all_data.role.str.contains(r'trader|trading|Portfolio Management', case=False)].user).difference(\n",
    "    all_roles)\n",
    "all_roles = all_roles.union(traders)\n",
    "\n",
    "bankers = set(all_data[all_data.role.str.contains(r'banking|banker|finance', case=False)].user).difference(all_roles)\n",
    "all_roles = all_roles.union(bankers)\n",
    "\n",
    "controllers = set(all_data[all_data.role.str.contains('controller', case=False)].user).difference(all_roles)\n",
    "all_roles = all_roles.union(controllers)\n",
    "\n",
    "partners = set(all_data[all_data.role.str.contains('partner', case=False)].user).difference(all_roles)\n",
    "all_roles = all_roles.union(partners)\n",
    "\n",
    "counsels = set(all_data[all_data.role.str.contains('counsel', case=False)].user).difference(all_roles)\n",
    "all_roles = all_roles.union(counsels)\n",
    "\n",
    "recruiters = set(all_data[all_data.role.str.contains('recruiter|human resources', case=False)].user).difference(\n",
    "    all_roles)\n",
    "all_roles = all_roles.union(recruiters)\n",
    "\n",
    "advisors = set(all_data[all_data.role.str.contains('advisor|adviseur', case=False)].user).difference(all_roles)\n",
    "all_roles = all_roles.union(advisors)\n",
    "\n",
    "assistants = set(\n",
    "    all_data[all_data.role.str.contains('assistant|support|services|receptionist', case=False)].user).difference(\n",
    "    all_roles)\n",
    "all_roles = all_roles.union(assistants)\n",
    "\n",
    "managers = set(all_data[all_data.role.str.contains(\n",
    "    r'manager|supervisor|team lead|head|lead|coordinator|representative|process executive',\n",
    "    case=False)].user).difference(all_roles)\n",
    "all_roles = all_roles.union(managers)\n",
    "\n",
    "others = set(all_data.user).difference(all_roles)\n",
    "\n",
    "# zip all sets and all job title names\n",
    "all_sets = [directors, analysts, vps, assocs, advisors, assistants, consultants, managers, missing, developers, interns,\n",
    "            specialists, sales, traders, bankers, controllers, partners, counsels, recruiters, accountants, others]\n",
    "job_titles = ['director', 'analyst', 'vp', 'assoc', 'advisor', 'assistant', 'consultant', 'manager', 'missing',\n",
    "              'developer', 'intern', 'specialist', 'sale', 'trader', 'banker', 'controller', 'partner', 'counsel',\n",
    "              'recruiter', 'accountant', 'other']\n",
    "\n",
    "zipped = list(zip(all_sets, job_titles))\n",
    "\n",
    "\n",
    "def to_dict(dictionary, users, job_title):\n",
    "    \"\"\"Map users to job_title in the given dictionary\"\"\"\n",
    "    for user in users:\n",
    "        dictionary.update({user: job_title})\n",
    "\n",
    "\n",
    "full_mapping = {}\n",
    "[to_dict(full_mapping, x, y) for x, y in zipped]\n",
    "full_mapping.update({'c0a3eb6a-59db-3a30-8a39-99a7cc8b9ce1': 'specialist'})\n",
    "full_mapping.update({'5f425323-1cdf-3e81-a08e-35b483c42da9': 'missing'})"
   ]
  },
  {
   "cell_type": "markdown",
   "metadata": {},
   "source": [
    "# Logistic Regression"
   ]
  },
  {
   "cell_type": "code",
   "execution_count": 150,
   "metadata": {
    "pycharm": {
     "is_executing": true
    }
   },
   "outputs": [],
   "source": [
    "import statsmodels.discrete.discrete_model as sm\n",
    "# prepare data for regression by dropping irrelevant names\n",
    "drop = ['length', 'name',\n",
    "        'primary_weight', 'secondary', 'secondary_weight', 'elite_education',\n",
    "        'city', 'country', '.', '??',\n",
    "        '/', 'department', 'exchange',\n",
    "        'public', 'location_company',\n",
    "        'major', 'department', 'FIGI', 'last_update', 'degree']\n",
    "\n",
    "regression_data = {company_name: company_data.drop(labels=drop, axis=1) for company_name, company_data in data.items()}"
   ]
  },
  {
   "cell_type": "code",
   "execution_count": 151,
   "metadata": {
    "pycharm": {
     "is_executing": true
    }
   },
   "outputs": [],
   "source": [
    "#additional step of filtering out those who don't have a job entry on 2016-1-1\n",
    "all_data_2016 = pd.concat(regression_data.values())\n",
    "employed_2016 = filter_and_mask(all_data_2016)\n",
    "employ_2016_users = list(employed_2016.user.unique())"
   ]
  },
  {
   "cell_type": "code",
   "execution_count": 152,
   "metadata": {
    "pycharm": {
     "is_executing": true
    }
   },
   "outputs": [],
   "source": [
    "regression_data = {company_name: job_2008(company_name, company_data) for company_name, company_data in\n",
    "                   regression_data.items()}"
   ]
  },
  {
   "cell_type": "code",
   "execution_count": 153,
   "metadata": {
    "pycharm": {
     "is_executing": true
    }
   },
   "outputs": [],
   "source": [
    "non_lehman = pd.concat([regression_data['db'], regression_data['gs'], regression_data['ms'], regression_data['ubs']])\n",
    "non_lehman['is_lehman'] = 0\n",
    "\n",
    "lehman = regression_data['leh'].copy()\n",
    "lehman['is_lehman'] = 1\n",
    "\n",
    "all_data = pd.concat([lehman, non_lehman])\n",
    "\n",
    "all_data = all_data[all_data.user.isin(employ_2016_users)]\n",
    "\n",
    "# fill in missing births to the median date, 1976\n",
    "index = all_data[all_data.birth.isin(['None', '2000'])].index\n",
    "all_data.loc[index, ['birth']] = '1976'"
   ]
  },
  {
   "cell_type": "code",
   "execution_count": 154,
   "metadata": {},
   "outputs": [],
   "source": [
    "import pickle\n",
    "with open('./Data/my_all_data', 'wb') as handle:\n",
    "    pickle.dump(all_data, handle, protocol=pickle.HIGHEST_PROTOCOL)\n"
   ]
  },
  {
   "cell_type": "code",
   "execution_count": 103,
   "metadata": {
    "pycharm": {
     "is_executing": true
    }
   },
   "outputs": [],
   "source": [
    "all_data = all_data.groupby('user').first().reset_index()"
   ]
  },
  {
   "cell_type": "code",
   "execution_count": null,
   "metadata": {},
   "outputs": [],
   "source": [
    "## import pickle\n",
    "# with open('./Data/employed_2016.csv', 'wb') as handle:\n",
    "#     pickle.dump(employ_2016_users, handle, protocol=pickle.HIGHEST_PROTOCOL)\n"
   ]
  },
  {
   "cell_type": "markdown",
   "metadata": {},
   "source": [
    "# Informative skills"
   ]
  },
  {
   "cell_type": "code",
   "execution_count": 155,
   "metadata": {
    "pycharm": {
     "is_executing": true
    }
   },
   "outputs": [],
   "source": [
    "skills = list(all_data.primary.value_counts().index)\n",
    "\n",
    "import scipy.stats as st\n",
    "\n",
    "#all_data = all_data[~(all_data['primary'] == '-1')].copy()\n",
    "p_lehman = len(all_data[all_data.is_lehman == 1]) / len(all_data)\n",
    "p_other = 1 - p_lehman\n",
    "entropy_parent = - (p_lehman * np.log2(p_lehman) + p_other * np.log2(p_other))\n",
    "n = len(all_data)"
   ]
  },
  {
   "cell_type": "code",
   "execution_count": 156,
   "metadata": {},
   "outputs": [
    {
     "data": {
      "text/plain": [
       "0.5296042464864098"
      ]
     },
     "execution_count": 156,
     "metadata": {},
     "output_type": "execute_result"
    }
   ],
   "source": [
    "entropy_parent"
   ]
  },
  {
   "cell_type": "code",
   "execution_count": 108,
   "metadata": {},
   "outputs": [
    {
     "data": {
      "text/plain": [
       "9631"
      ]
     },
     "execution_count": 108,
     "metadata": {},
     "output_type": "execute_result"
    }
   ],
   "source": [
    "len(all_data[all_data.is_lehman == 1])"
   ]
  },
  {
   "cell_type": "code",
   "execution_count": 107,
   "metadata": {},
   "outputs": [
    {
     "data": {
      "text/plain": [
       "78944"
      ]
     },
     "execution_count": 107,
     "metadata": {},
     "output_type": "execute_result"
    }
   ],
   "source": [
    "n"
   ]
  },
  {
   "cell_type": "code",
   "execution_count": 104,
   "metadata": {
    "pycharm": {
     "is_executing": true
    }
   },
   "outputs": [
    {
     "data": {
      "text/plain": [
       "[0.00019695009174303113,\n",
       " 5.35514151390748e-05,\n",
       " 0.0014392526215359913,\n",
       " 6.097171460184292e-05,\n",
       " 6.945361563526209e-05,\n",
       " 0.0011049419905402313,\n",
       " 0.00028247005131465386,\n",
       " 3.257022205960247e-05,\n",
       " 7.953333267196605e-06,\n",
       " 5.056339443632041e-05,\n",
       " 1.4344209153804854e-09,\n",
       " 4.410118045194977e-06,\n",
       " 2.3403978382074975e-05,\n",
       " 3.3794879658377575e-05,\n",
       " 0.00011884255057970083,\n",
       " 1.702835100692024e-05,\n",
       " 2.7017610122470614e-06,\n",
       " 4.157502692336834e-06,\n",
       " 0.0002494516435149752,\n",
       " 0.00010494124195925547,\n",
       " 2.0695139602011636e-08,\n",
       " 1.5447665054901805e-06,\n",
       " 4.272474412014837e-05,\n",
       " 7.701866355358522e-05,\n",
       " 1.0291138953899548e-05,\n",
       " 5.593861648456322e-05,\n",
       " 9.317082565574175e-06,\n",
       " 1.4899117720901245e-05,\n",
       " 5.610014812695852e-07,\n",
       " 4.30118522509737e-06,\n",
       " 1.9723721245146209e-07,\n",
       " 3.922064647166046e-05,\n",
       " 1.4063658483109975e-05,\n",
       " 7.4488171990516605e-06,\n",
       " 2.741270731521084e-07,\n",
       " 2.9621454570194494e-05,\n",
       " 1.2409879581731786e-06,\n",
       " 2.4441246138096062e-08,\n",
       " 2.101367875151361e-06,\n",
       " 3.754306165903998e-05,\n",
       " 1.9675161581078626e-06,\n",
       " 1.2218128397911698e-08,\n",
       " 2.3778419629860714e-05,\n",
       " 6.108440531171766e-09,\n",
       " 7.1331881094094385e-06]"
      ]
     },
     "execution_count": 104,
     "metadata": {},
     "output_type": "execute_result"
    }
   ],
   "source": [
    "IG = []\n",
    "for skill in skills:\n",
    "    split = all_data[all_data.primary == skill]\n",
    "    split_no = all_data[~(all_data.primary == skill)]\n",
    "    \n",
    "    #look at people with the skill first\n",
    "#     p_split_lehman = sum(split.is_lehman)/len(split)\n",
    "#     p_split_other = 1 - p_split_lehman\n",
    "\n",
    "    #entropy_split = - (p_split_lehman * np.log2(p_split_lehman) + p_split_other * np.log2(p_split_other))\n",
    "    split_lehman = sum(split.is_lehman)\n",
    "    split_other = len(split) - split_lehman\n",
    "    entropy_split = st.entropy([split_lehman, split_other],base=2)\n",
    "    \n",
    "    #look at people without the skill next\n",
    "#     p_no_lehman = sum(split_no.is_lehman)/len(split_no)\n",
    "#     p_no_other = 1 - p_no_lehman\n",
    "\n",
    "    #entropy_no_split = - (p_no_lehman * np.log2(p_no_lehman) + p_no_other * np.log2(p_no_other))\n",
    "    no_lehman = sum(split_no.is_lehman)\n",
    "    no_other = len(split_no) - no_lehman\n",
    "    entropy_no_split = st.entropy([no_lehman, no_other],base=2)\n",
    "    \n",
    "    #weight by number in each split\n",
    "    left = len(split)\n",
    "    right = len(split_no)\n",
    "    entropy_children = left/n * entropy_split + right/n * entropy_no_split\n",
    "    \n",
    "    IG.append(entropy_parent - entropy_children)\n",
    "\n",
    "IG"
   ]
  },
  {
   "cell_type": "code",
   "execution_count": 105,
   "metadata": {
    "pycharm": {
     "is_executing": true
    }
   },
   "outputs": [
    {
     "data": {
      "text/plain": [
       "['-1',\n",
       " 'Banking and Finance',\n",
       " 'Operations Management',\n",
       " 'Technical Product Management',\n",
       " 'Software Engineering',\n",
       " 'Insurance',\n",
       " 'Business Development',\n",
       " 'Accounting and Auditing',\n",
       " 'Middle Management',\n",
       " 'Administration',\n",
       " 'Recruiting',\n",
       " 'IT Management and Support',\n",
       " 'Social Media and Communications',\n",
       " 'Web Development',\n",
       " 'Human Resources (Senior)',\n",
       " 'Sales Management',\n",
       " 'CRM and Sales Management',\n",
       " 'Digital Marketing',\n",
       " 'Product Management',\n",
       " 'Real Estate',\n",
       " 'Legal',\n",
       " 'Human Resources (Junior)',\n",
       " 'Data Analysis',\n",
       " 'Mobile Telecommunications',\n",
       " 'Sales',\n",
       " 'Non-Profit and Community',\n",
       " 'Logistics',\n",
       " 'Military',\n",
       " 'Public Policy',\n",
       " 'Graphic Design',\n",
       " 'Hospitality',\n",
       " 'Industrial Management',\n",
       " 'Video and Film Production',\n",
       " 'Web Design',\n",
       " 'Personal Coaching',\n",
       " 'Construction Management',\n",
       " 'Education',\n",
       " 'Healthcare',\n",
       " 'Energy, Oil, and Gas',\n",
       " 'Musical Production',\n",
       " 'Retail and Fashion',\n",
       " 'Visual Design',\n",
       " 'Electrical Engineering',\n",
       " 'Pharmaceutical',\n",
       " 'Manufacturing and Process Management']"
      ]
     },
     "execution_count": 105,
     "metadata": {},
     "output_type": "execute_result"
    }
   ],
   "source": [
    "best_with_missing = np.flip(np.argsort(IG))\n",
    "# best_with_out_missing = np.flip(np.argsort(IG))\n",
    "\n",
    "# best_with_out_missing\n",
    "skills"
   ]
  },
  {
   "cell_type": "markdown",
   "metadata": {},
   "source": [
    "# Continuing regression"
   ]
  },
  {
   "cell_type": "code",
   "execution_count": 71,
   "metadata": {
    "pycharm": {
     "is_executing": true
    }
   },
   "outputs": [
    {
     "name": "stdout",
     "output_type": "stream",
     "text": [
      "Optimization terminated successfully.\n",
      "         Current function value: 0.367848\n",
      "         Iterations 7\n"
     ]
    },
    {
     "name": "stderr",
     "output_type": "stream",
     "text": [
      "/Library/Frameworks/Python.framework/Versions/3.7/lib/python3.7/site-packages/numpy/core/fromnumeric.py:2495: FutureWarning: Method .ptp is deprecated and will be removed in a future version. Use numpy.ptp instead.\n",
      "  return ptp(axis=axis, out=out, **kwargs)\n"
     ]
    }
   ],
   "source": [
    "# data deemed informative by information gain. Missing is coded as '-1'\n",
    "informative_skills = skills[0:5]\n",
    "informative_skills = ['-1', 'Banking and Finance', 'Software Engineering', 'Technical Product Management','Real Estate']\n",
    "# convert uninformative skills to '0'\n",
    "not_informative = ~all_data.primary.isin(informative_skills)\n",
    "all_data.loc[not_informative, 'primary'] = 0\n",
    "all_data['job_category'] = all_data.user.apply(lambda x: full_mapping[x])\n",
    "\n",
    "# make sure typing is consistent for each category\n",
    "X = all_data[['birth', 'gender', 'primary', 'education', 'elite']].copy()\n",
    "X['education'] = X['education'].apply(str)\n",
    "X['gender'] = X['gender'].apply(str)\n",
    "X['birth'] = X['birth'].astype(int)\n",
    "X['elite'] = X['elite'].astype(int)\n",
    "X = pd.get_dummies(data=X, drop_first=True)\n",
    "X = sm.tools.add_constant(X)\n",
    "\n",
    "y = all_data['is_lehman']\n",
    "\n",
    "# regress y on X\n",
    "logit = sm.Logit(y, X)\n",
    "results = logit.fit(maxiter = 100)\n",
    "\n",
    "# get propensities\n",
    "all_data['propensity'] = results.predict(X)\n",
    "\n",
    "# Begin matching process. Map each user to its propensity\n",
    "user_to_propensity = dict(zip(all_data.user, all_data.propensity))\n",
    "\n",
    "# get lehman and non-lehman guys\n",
    "lehman = all_data[all_data['is_lehman'] == 1]\n",
    "non_lehman = all_data[all_data['is_lehman'] == 0]"
   ]
  },
  {
   "cell_type": "code",
   "execution_count": 72,
   "metadata": {
    "pycharm": {
     "is_executing": true
    }
   },
   "outputs": [
    {
     "data": {
      "text/html": [
       "<table class=\"simpletable\">\n",
       "<caption>Logit Regression Results</caption>\n",
       "<tr>\n",
       "  <th>Dep. Variable:</th>       <td>is_lehman</td>    <th>  No. Observations:  </th>  <td> 78944</td>  \n",
       "</tr>\n",
       "<tr>\n",
       "  <th>Model:</th>                 <td>Logit</td>      <th>  Df Residuals:      </th>  <td> 78927</td>  \n",
       "</tr>\n",
       "<tr>\n",
       "  <th>Method:</th>                 <td>MLE</td>       <th>  Df Model:          </th>  <td>    16</td>  \n",
       "</tr>\n",
       "<tr>\n",
       "  <th>Date:</th>            <td>Mon, 23 Dec 2019</td> <th>  Pseudo R-squ.:     </th> <td>0.008194</td> \n",
       "</tr>\n",
       "<tr>\n",
       "  <th>Time:</th>                <td>18:28:22</td>     <th>  Log-Likelihood:    </th> <td> -29039.</td> \n",
       "</tr>\n",
       "<tr>\n",
       "  <th>converged:</th>             <td>True</td>       <th>  LL-Null:           </th> <td> -29279.</td> \n",
       "</tr>\n",
       "<tr>\n",
       "  <th>Covariance Type:</th>     <td>nonrobust</td>    <th>  LLR p-value:       </th> <td>6.031e-92</td>\n",
       "</tr>\n",
       "</table>\n",
       "<table class=\"simpletable\">\n",
       "<tr>\n",
       "                    <td></td>                      <th>coef</th>     <th>std err</th>      <th>z</th>      <th>P>|z|</th>  <th>[0.025</th>    <th>0.975]</th>  \n",
       "</tr>\n",
       "<tr>\n",
       "  <th>const</th>                                <td>  -31.1210</td> <td>    3.142</td> <td>   -9.904</td> <td> 0.000</td> <td>  -37.280</td> <td>  -24.962</td>\n",
       "</tr>\n",
       "<tr>\n",
       "  <th>birth</th>                                <td>    0.0146</td> <td>    0.002</td> <td>    9.199</td> <td> 0.000</td> <td>    0.012</td> <td>    0.018</td>\n",
       "</tr>\n",
       "<tr>\n",
       "  <th>elite</th>                                <td>    0.2208</td> <td>    0.032</td> <td>    6.872</td> <td> 0.000</td> <td>    0.158</td> <td>    0.284</td>\n",
       "</tr>\n",
       "<tr>\n",
       "  <th>gender_1</th>                             <td>   -0.2296</td> <td>    0.032</td> <td>   -7.098</td> <td> 0.000</td> <td>   -0.293</td> <td>   -0.166</td>\n",
       "</tr>\n",
       "<tr>\n",
       "  <th>gender_2</th>                             <td>   -0.1698</td> <td>    0.027</td> <td>   -6.295</td> <td> 0.000</td> <td>   -0.223</td> <td>   -0.117</td>\n",
       "</tr>\n",
       "<tr>\n",
       "  <th>primary_-1</th>                           <td>    0.3875</td> <td>    0.038</td> <td>   10.302</td> <td> 0.000</td> <td>    0.314</td> <td>    0.461</td>\n",
       "</tr>\n",
       "<tr>\n",
       "  <th>primary_Banking and Finance</th>          <td>    0.3901</td> <td>    0.043</td> <td>    9.154</td> <td> 0.000</td> <td>    0.307</td> <td>    0.474</td>\n",
       "</tr>\n",
       "<tr>\n",
       "  <th>primary_Real Estate</th>                  <td>    1.0716</td> <td>    0.201</td> <td>    5.333</td> <td> 0.000</td> <td>    0.678</td> <td>    1.465</td>\n",
       "</tr>\n",
       "<tr>\n",
       "  <th>primary_Software Engineering</th>         <td>    0.5588</td> <td>    0.087</td> <td>    6.424</td> <td> 0.000</td> <td>    0.388</td> <td>    0.729</td>\n",
       "</tr>\n",
       "<tr>\n",
       "  <th>primary_Technical Product Management</th> <td>    0.5578</td> <td>    0.084</td> <td>    6.661</td> <td> 0.000</td> <td>    0.394</td> <td>    0.722</td>\n",
       "</tr>\n",
       "<tr>\n",
       "  <th>education_1</th>                          <td>   -0.2821</td> <td>    0.115</td> <td>   -2.456</td> <td> 0.014</td> <td>   -0.507</td> <td>   -0.057</td>\n",
       "</tr>\n",
       "<tr>\n",
       "  <th>education_2</th>                          <td>   -0.5514</td> <td>    0.197</td> <td>   -2.803</td> <td> 0.005</td> <td>   -0.937</td> <td>   -0.166</td>\n",
       "</tr>\n",
       "<tr>\n",
       "  <th>education_3</th>                          <td>    0.1789</td> <td>    0.164</td> <td>    1.088</td> <td> 0.277</td> <td>   -0.143</td> <td>    0.501</td>\n",
       "</tr>\n",
       "<tr>\n",
       "  <th>education_4</th>                          <td>    0.0580</td> <td>    0.027</td> <td>    2.132</td> <td> 0.033</td> <td>    0.005</td> <td>    0.111</td>\n",
       "</tr>\n",
       "<tr>\n",
       "  <th>education_5</th>                          <td>   -0.0886</td> <td>    0.039</td> <td>   -2.259</td> <td> 0.024</td> <td>   -0.165</td> <td>   -0.012</td>\n",
       "</tr>\n",
       "<tr>\n",
       "  <th>education_6</th>                          <td>    0.2215</td> <td>    0.039</td> <td>    5.736</td> <td> 0.000</td> <td>    0.146</td> <td>    0.297</td>\n",
       "</tr>\n",
       "<tr>\n",
       "  <th>education_7</th>                          <td>    0.2099</td> <td>    0.063</td> <td>    3.334</td> <td> 0.001</td> <td>    0.086</td> <td>    0.333</td>\n",
       "</tr>\n",
       "</table>"
      ],
      "text/plain": [
       "<class 'statsmodels.iolib.summary.Summary'>\n",
       "\"\"\"\n",
       "                           Logit Regression Results                           \n",
       "==============================================================================\n",
       "Dep. Variable:              is_lehman   No. Observations:                78944\n",
       "Model:                          Logit   Df Residuals:                    78927\n",
       "Method:                           MLE   Df Model:                           16\n",
       "Date:                Mon, 23 Dec 2019   Pseudo R-squ.:                0.008194\n",
       "Time:                        18:28:22   Log-Likelihood:                -29039.\n",
       "converged:                       True   LL-Null:                       -29279.\n",
       "Covariance Type:            nonrobust   LLR p-value:                 6.031e-92\n",
       "========================================================================================================\n",
       "                                           coef    std err          z      P>|z|      [0.025      0.975]\n",
       "--------------------------------------------------------------------------------------------------------\n",
       "const                                  -31.1210      3.142     -9.904      0.000     -37.280     -24.962\n",
       "birth                                    0.0146      0.002      9.199      0.000       0.012       0.018\n",
       "elite                                    0.2208      0.032      6.872      0.000       0.158       0.284\n",
       "gender_1                                -0.2296      0.032     -7.098      0.000      -0.293      -0.166\n",
       "gender_2                                -0.1698      0.027     -6.295      0.000      -0.223      -0.117\n",
       "primary_-1                               0.3875      0.038     10.302      0.000       0.314       0.461\n",
       "primary_Banking and Finance              0.3901      0.043      9.154      0.000       0.307       0.474\n",
       "primary_Real Estate                      1.0716      0.201      5.333      0.000       0.678       1.465\n",
       "primary_Software Engineering             0.5588      0.087      6.424      0.000       0.388       0.729\n",
       "primary_Technical Product Management     0.5578      0.084      6.661      0.000       0.394       0.722\n",
       "education_1                             -0.2821      0.115     -2.456      0.014      -0.507      -0.057\n",
       "education_2                             -0.5514      0.197     -2.803      0.005      -0.937      -0.166\n",
       "education_3                              0.1789      0.164      1.088      0.277      -0.143       0.501\n",
       "education_4                              0.0580      0.027      2.132      0.033       0.005       0.111\n",
       "education_5                             -0.0886      0.039     -2.259      0.024      -0.165      -0.012\n",
       "education_6                              0.2215      0.039      5.736      0.000       0.146       0.297\n",
       "education_7                              0.2099      0.063      3.334      0.001       0.086       0.333\n",
       "========================================================================================================\n",
       "\"\"\""
      ]
     },
     "execution_count": 72,
     "metadata": {},
     "output_type": "execute_result"
    }
   ],
   "source": [
    "results.summary()"
   ]
  },
  {
   "cell_type": "code",
   "execution_count": 73,
   "metadata": {
    "pycharm": {
     "is_executing": true
    }
   },
   "outputs": [
    {
     "data": {
      "text/plain": [
       "1974.6611015403323"
      ]
     },
     "execution_count": 73,
     "metadata": {},
     "output_type": "execute_result"
    }
   ],
   "source": [
    "np.mean(X.birth)"
   ]
  },
  {
   "cell_type": "code",
   "execution_count": 74,
   "metadata": {
    "pycharm": {
     "is_executing": true
    }
   },
   "outputs": [
    {
     "name": "stderr",
     "output_type": "stream",
     "text": [
      "/Library/Frameworks/Python.framework/Versions/3.7/lib/python3.7/site-packages/ipykernel_launcher.py:10: SettingWithCopyWarning: \n",
      "A value is trying to be set on a copy of a slice from a DataFrame.\n",
      "Try using .loc[row_indexer,col_indexer] = value instead\n",
      "\n",
      "See the caveats in the documentation: http://pandas.pydata.org/pandas-docs/stable/user_guide/indexing.html#returning-a-view-versus-a-copy\n",
      "  # Remove the CWD from sys.path while we load stuff.\n",
      "/Library/Frameworks/Python.framework/Versions/3.7/lib/python3.7/site-packages/ipykernel_launcher.py:11: SettingWithCopyWarning: \n",
      "A value is trying to be set on a copy of a slice from a DataFrame.\n",
      "Try using .loc[row_indexer,col_indexer] = value instead\n",
      "\n",
      "See the caveats in the documentation: http://pandas.pydata.org/pandas-docs/stable/user_guide/indexing.html#returning-a-view-versus-a-copy\n",
      "  # This is added back by InteractiveShellApp.init_path()\n"
     ]
    }
   ],
   "source": [
    "def get_closest(row):\n",
    "    # return user ID of closest match with the same job title\n",
    "    role = row.job_category\n",
    "    score = row.propensity\n",
    "    others_by_role = non_lehman[non_lehman.job_category == role].set_index('user')\n",
    "    return np.absolute(others_by_role['propensity'] - score).idxmin()\n",
    "\n",
    "\n",
    "# get closest match for each lehman guy\n",
    "lehman['match'] = lehman.apply(get_closest, axis=1)\n",
    "lehman['match_propensity'] = lehman.match.apply(lambda x: user_to_propensity[x])\n",
    "\n",
    "lehman_matches = lehman"
   ]
  },
  {
   "cell_type": "markdown",
   "metadata": {},
   "source": [
    "# Naive proportion finance"
   ]
  },
  {
   "cell_type": "code",
   "execution_count": 75,
   "metadata": {
    "pycharm": {
     "is_executing": true
    }
   },
   "outputs": [
    {
     "data": {
      "text/plain": [
       "{'db': (10216, 17696, 0.5773056057866185),\n",
       " 'gs': (6850, 12130, 0.5647155812036274),\n",
       " 'leh': (5391, 9631, 0.559754957948292),\n",
       " 'ms': (9727, 16270, 0.5978488014751075),\n",
       " 'ubs': (13373, 23229, 0.5757027853114641)}"
      ]
     },
     "execution_count": 75,
     "metadata": {},
     "output_type": "execute_result"
    }
   ],
   "source": [
    "drop = ['length', 'gender', 'primary',\n",
    "        'primary_weight', 'secondary', 'secondary_weight',\n",
    "        'city', 'country', 'education', 'elite', '.', '??',\n",
    "        '/', 'department', 'exchange',\n",
    "        'public', 'location_company', 'degree', 'elite_education',\n",
    "        'major', 'department', 'FIGI', 'last_update']\n",
    "\n",
    "finance_data = {company_name : company_data.drop(labels=drop, axis=1) for company_name, company_data in data.items()}\n",
    "\n",
    "def prop_finance(company_data):\n",
    "    # exclude values with tickers in the categories\n",
    "    copy = company_data.copy()\n",
    "    users = company_data.groupby('user')\n",
    "    total_users = len(users)\n",
    "    # get each person's most recent job\n",
    "    recent_jobs = users.first()\n",
    "    # sum the people who stayed in finance industries\n",
    "    stayed_finance = sum(recent_jobs['industry'].str.startswith('52', na=False))\n",
    "    return stayed_finance, total_users, stayed_finance/total_users\n",
    "\n",
    "# Apply mappings for missing industries with the dictionary, then mask to look only at job entries that start before\n",
    "# '2016-1-1' and end after '2016-1-1'.\n",
    "filtered_data = {company_name: filter_and_mask(company_data) for company_name, company_data in finance_data.items()}\n",
    "\n",
    "# calculate the proportion that stayed in finance as of 2016-01-01\n",
    "prop_stayed_finance = {company_name: prop_finance(company_data) for company_name, company_data in filtered_data.items()}\n",
    "prop_stayed_finance\n",
    "\n",
    "# # same as before, but don't filter the data with the dictionary\n",
    "# filtered_data = {company_name: mask(company_data) for company_name, company_data in finance_data.items()}\n",
    "# prop_unfiltered = {company_name: prop_finance(company_data) for company_name, company_data in filtered_data.items()}\n",
    "# prop_unfiltered"
   ]
  },
  {
   "cell_type": "markdown",
   "metadata": {},
   "source": [
    "# Matched proportion stayed in finance"
   ]
  },
  {
   "cell_type": "code",
   "execution_count": 76,
   "metadata": {
    "pycharm": {
     "is_executing": true
    }
   },
   "outputs": [],
   "source": [
    "lehman_to_match = dict(zip(lehman_matches.user, lehman_matches.match))\n",
    "\n",
    "lehman = filtered_data['leh'].copy()\n",
    "lehman['match'] = lehman.user.apply(lambda x : lehman_to_match[x])\n",
    "\n",
    "matched_users = list(lehman.match.unique())\n",
    "\n",
    "non_lehman =  pd.concat([filtered_data['db'], filtered_data['gs'], filtered_data['ms'], filtered_data['ubs']])\n",
    "matches = non_lehman[non_lehman.user.isin(matched_users)]\n",
    "\n",
    "matches = matches.groupby('user').first().reset_index()\n",
    "matches['stayed_finance'] = matches['industry'].str.startswith('52', na=False)"
   ]
  },
  {
   "cell_type": "code",
   "execution_count": 77,
   "metadata": {
    "pycharm": {
     "is_executing": true
    }
   },
   "outputs": [],
   "source": [
    "match_to_stayed_finance = dict(zip(matches.user, matches.stayed_finance))\n",
    "match_to_missing_industry = dict(zip(matches.user, pd.isnull(matches.industry)))"
   ]
  },
  {
   "cell_type": "code",
   "execution_count": 78,
   "metadata": {
    "pycharm": {
     "is_executing": true
    }
   },
   "outputs": [],
   "source": [
    "# from collections import defaultdict\n",
    "\n",
    "# match_to_stayed_finance = defaultdict(lambda: None, match_to_stayed_finance)"
   ]
  },
  {
   "cell_type": "code",
   "execution_count": 79,
   "metadata": {
    "pycharm": {
     "is_executing": true
    }
   },
   "outputs": [],
   "source": [
    "lehman_most_recent = lehman.copy()"
   ]
  },
  {
   "cell_type": "code",
   "execution_count": 80,
   "metadata": {
    "pycharm": {
     "is_executing": true
    }
   },
   "outputs": [],
   "source": [
    "lehman_most_recent = lehman.groupby('user').first()\n",
    "lehman_most_recent['match_stayed_finance'] = lehman_most_recent.match.apply(lambda x: match_to_stayed_finance[x])\n",
    "lehman_most_recent['lehman_stayed_finance'] = lehman_most_recent.industry.str.startswith('52', na = False)\n",
    "lehman_most_recent['job_category'] = lehman_most_recent.index.to_series().apply(lambda x: full_mapping[x])"
   ]
  },
  {
   "cell_type": "code",
   "execution_count": 81,
   "metadata": {
    "pycharm": {
     "is_executing": true
    }
   },
   "outputs": [],
   "source": [
    "roles = lehman_most_recent.job_category.unique()\n",
    "stayed_finance = {'role' : [], 'lehman_stayed' : [], 'match_stayed' : [], 'total' : [], 'proportion_lehman':[], 'proportion_match' :[], 'zscore': []}\n",
    "\n",
    "for role in roles:\n",
    "    role_data = lehman_most_recent[lehman_most_recent.job_category == role]\n",
    "    lehman_stayed = sum(role_data.industry.str.startswith('52', na = False))\n",
    "    match_stayed = sum(role_data.match_stayed_finance)\n",
    "    total = len(role_data)\n",
    "    prop_lehman = lehman_stayed/total\n",
    "    prop_match = match_stayed/total\n",
    "    zscore = (prop_lehman - prop_match) / (prop_lehman * prop_match *(2/total))**(1/2)\n",
    "    stayed_finance['role'].append(role)\n",
    "    stayed_finance['lehman_stayed'].append(lehman_stayed)\n",
    "    stayed_finance['match_stayed'].append(match_stayed)\n",
    "    stayed_finance['total'].append(total)\n",
    "    stayed_finance['proportion_lehman'].append(prop_lehman)\n",
    "    stayed_finance['proportion_match'].append(prop_match)\n",
    "    stayed_finance['zscore'].append(zscore)\n",
    "role_data = lehman_most_recent[lehman_most_recent.job_category == role]\n",
    "\n",
    "lehman_stayed = sum(lehman_most_recent.industry.str.startswith('52', na = False))\n",
    "match_stayed = sum(lehman_most_recent.match_stayed_finance)\n",
    "total = len(lehman_most_recent)\n",
    "prop_lehman = lehman_stayed/total\n",
    "prop_match = match_stayed/total\n",
    "zscore = (prop_lehman - prop_match) / (prop_lehman * prop_match *(2/total))**(1/2)\n",
    "\n",
    "stayed_finance['role'].append('all_roles')\n",
    "stayed_finance['lehman_stayed'].append(lehman_stayed)\n",
    "stayed_finance['match_stayed'].append(match_stayed)\n",
    "stayed_finance['total'].append(total)\n",
    "stayed_finance['proportion_lehman'].append(lehman_stayed/total)\n",
    "stayed_finance['proportion_match'].append(match_stayed/total)\n",
    "stayed_finance['zscore'].append(zscore)"
   ]
  },
  {
   "cell_type": "code",
   "execution_count": 82,
   "metadata": {
    "pycharm": {
     "is_executing": true
    }
   },
   "outputs": [],
   "source": [
    "df = pd.DataFrame(stayed_finance)\n",
    "\n",
    "df = df[df.total>= 200]"
   ]
  },
  {
   "cell_type": "code",
   "execution_count": 83,
   "metadata": {
    "pycharm": {
     "is_executing": true
    }
   },
   "outputs": [
    {
     "data": {
      "text/html": [
       "<div>\n",
       "<style scoped>\n",
       "    .dataframe tbody tr th:only-of-type {\n",
       "        vertical-align: middle;\n",
       "    }\n",
       "\n",
       "    .dataframe tbody tr th {\n",
       "        vertical-align: top;\n",
       "    }\n",
       "\n",
       "    .dataframe thead th {\n",
       "        text-align: right;\n",
       "    }\n",
       "</style>\n",
       "<table border=\"1\" class=\"dataframe\">\n",
       "  <thead>\n",
       "    <tr style=\"text-align: right;\">\n",
       "      <th></th>\n",
       "      <th>role</th>\n",
       "      <th>lehman_stayed</th>\n",
       "      <th>match_stayed</th>\n",
       "      <th>total</th>\n",
       "      <th>proportion_lehman</th>\n",
       "      <th>proportion_match</th>\n",
       "      <th>zscore</th>\n",
       "    </tr>\n",
       "  </thead>\n",
       "  <tbody>\n",
       "    <tr>\n",
       "      <td>0</td>\n",
       "      <td>assoc</td>\n",
       "      <td>444</td>\n",
       "      <td>435</td>\n",
       "      <td>736</td>\n",
       "      <td>0.603261</td>\n",
       "      <td>0.591033</td>\n",
       "      <td>0.392853</td>\n",
       "    </tr>\n",
       "    <tr>\n",
       "      <td>1</td>\n",
       "      <td>vp</td>\n",
       "      <td>1677</td>\n",
       "      <td>1800</td>\n",
       "      <td>2712</td>\n",
       "      <td>0.618363</td>\n",
       "      <td>0.663717</td>\n",
       "      <td>-2.606947</td>\n",
       "    </tr>\n",
       "    <tr>\n",
       "      <td>2</td>\n",
       "      <td>other</td>\n",
       "      <td>310</td>\n",
       "      <td>346</td>\n",
       "      <td>622</td>\n",
       "      <td>0.498392</td>\n",
       "      <td>0.556270</td>\n",
       "      <td>-1.938491</td>\n",
       "    </tr>\n",
       "    <tr>\n",
       "      <td>3</td>\n",
       "      <td>director</td>\n",
       "      <td>527</td>\n",
       "      <td>581</td>\n",
       "      <td>868</td>\n",
       "      <td>0.607143</td>\n",
       "      <td>0.669355</td>\n",
       "      <td>-2.033037</td>\n",
       "    </tr>\n",
       "    <tr>\n",
       "      <td>4</td>\n",
       "      <td>assistant</td>\n",
       "      <td>144</td>\n",
       "      <td>169</td>\n",
       "      <td>323</td>\n",
       "      <td>0.445820</td>\n",
       "      <td>0.523220</td>\n",
       "      <td>-2.036581</td>\n",
       "    </tr>\n",
       "    <tr>\n",
       "      <td>5</td>\n",
       "      <td>analyst</td>\n",
       "      <td>960</td>\n",
       "      <td>1015</td>\n",
       "      <td>1807</td>\n",
       "      <td>0.531267</td>\n",
       "      <td>0.561704</td>\n",
       "      <td>-1.674781</td>\n",
       "    </tr>\n",
       "    <tr>\n",
       "      <td>7</td>\n",
       "      <td>developer</td>\n",
       "      <td>411</td>\n",
       "      <td>319</td>\n",
       "      <td>764</td>\n",
       "      <td>0.537958</td>\n",
       "      <td>0.417539</td>\n",
       "      <td>4.965960</td>\n",
       "    </tr>\n",
       "    <tr>\n",
       "      <td>9</td>\n",
       "      <td>manager</td>\n",
       "      <td>359</td>\n",
       "      <td>418</td>\n",
       "      <td>690</td>\n",
       "      <td>0.520290</td>\n",
       "      <td>0.605797</td>\n",
       "      <td>-2.828956</td>\n",
       "    </tr>\n",
       "    <tr>\n",
       "      <td>11</td>\n",
       "      <td>sale</td>\n",
       "      <td>133</td>\n",
       "      <td>175</td>\n",
       "      <td>225</td>\n",
       "      <td>0.591111</td>\n",
       "      <td>0.777778</td>\n",
       "      <td>-2.919986</td>\n",
       "    </tr>\n",
       "    <tr>\n",
       "      <td>21</td>\n",
       "      <td>all_roles</td>\n",
       "      <td>5391</td>\n",
       "      <td>5740</td>\n",
       "      <td>9631</td>\n",
       "      <td>0.559755</td>\n",
       "      <td>0.595992</td>\n",
       "      <td>-4.353670</td>\n",
       "    </tr>\n",
       "  </tbody>\n",
       "</table>\n",
       "</div>"
      ],
      "text/plain": [
       "         role  lehman_stayed  match_stayed  total  proportion_lehman  \\\n",
       "0       assoc            444           435    736           0.603261   \n",
       "1          vp           1677          1800   2712           0.618363   \n",
       "2       other            310           346    622           0.498392   \n",
       "3    director            527           581    868           0.607143   \n",
       "4   assistant            144           169    323           0.445820   \n",
       "5     analyst            960          1015   1807           0.531267   \n",
       "7   developer            411           319    764           0.537958   \n",
       "9     manager            359           418    690           0.520290   \n",
       "11       sale            133           175    225           0.591111   \n",
       "21  all_roles           5391          5740   9631           0.559755   \n",
       "\n",
       "    proportion_match    zscore  \n",
       "0           0.591033  0.392853  \n",
       "1           0.663717 -2.606947  \n",
       "2           0.556270 -1.938491  \n",
       "3           0.669355 -2.033037  \n",
       "4           0.523220 -2.036581  \n",
       "5           0.561704 -1.674781  \n",
       "7           0.417539  4.965960  \n",
       "9           0.605797 -2.828956  \n",
       "11          0.777778 -2.919986  \n",
       "21          0.595992 -4.353670  "
      ]
     },
     "execution_count": 83,
     "metadata": {},
     "output_type": "execute_result"
    }
   ],
   "source": [
    "df"
   ]
  },
  {
   "cell_type": "code",
   "execution_count": 84,
   "metadata": {
    "pycharm": {
     "is_executing": true
    }
   },
   "outputs": [],
   "source": [
    "toPlot = df[['role', 'proportion_lehman', 'proportion_match']].set_index('role').stack().reset_index()\n",
    "toPlot = toPlot.rename({'level_1' : 'company', 0 : 'proportion'}, axis = 1)"
   ]
  },
  {
   "cell_type": "code",
   "execution_count": 85,
   "metadata": {
    "pycharm": {
     "is_executing": true
    }
   },
   "outputs": [],
   "source": [
    "from matplotlib import pyplot\n",
    "import seaborn as sns\n",
    "%matplotlib inline"
   ]
  },
  {
   "cell_type": "code",
   "execution_count": 86,
   "metadata": {
    "pycharm": {
     "is_executing": true
    }
   },
   "outputs": [
    {
     "data": {
      "image/png": "[encoded data removed]",
      "text/plain": [
       "<Figure size 1440x360 with 1 Axes>"
      ]
     },
     "metadata": {},
     "output_type": "display_data"
    }
   ],
   "source": [
    "sns.set(rc={'figure.figsize':(20,5)})\n",
    "\n",
    "sns.lineplot( x = 'role', y = 'proportion', hue = 'company', data = toPlot);"
   ]
  },
  {
   "cell_type": "code",
   "execution_count": 87,
   "metadata": {
    "pycharm": {
     "is_executing": true
    }
   },
   "outputs": [],
   "source": [
    "df.sort_values(by = 'role').to_csv('./Deliverables/proportion_finance.csv')"
   ]
  },
  {
   "cell_type": "markdown",
   "metadata": {},
   "source": [
    "# Missing industries Lehman vs match"
   ]
  },
  {
   "cell_type": "code",
   "execution_count": 88,
   "metadata": {
    "pycharm": {
     "is_executing": true
    }
   },
   "outputs": [],
   "source": [
    "lehman_most_recent['lehman_missing_industry'] = pd.isnull(lehman_most_recent.industry)\n",
    "lehman_most_recent['match_missing_industry'] = lehman_most_recent.match.apply(lambda x : match_to_missing_industry[x])"
   ]
  },
  {
   "cell_type": "code",
   "execution_count": 89,
   "metadata": {
    "pycharm": {
     "is_executing": true
    }
   },
   "outputs": [
    {
     "data": {
      "text/plain": [
       "9631"
      ]
     },
     "execution_count": 89,
     "metadata": {},
     "output_type": "execute_result"
    }
   ],
   "source": [
    "len(lehman_most_recent)"
   ]
  },
  {
   "cell_type": "code",
   "execution_count": 90,
   "metadata": {
    "pycharm": {
     "is_executing": true
    },
    "scrolled": true
   },
   "outputs": [
    {
     "data": {
      "text/plain": [
       "(628, 707)"
      ]
     },
     "execution_count": 90,
     "metadata": {},
     "output_type": "execute_result"
    }
   ],
   "source": [
    "(sum(lehman_most_recent.match_missing_industry), sum(lehman_most_recent.lehman_missing_industry))"
   ]
  },
  {
   "cell_type": "code",
   "execution_count": 91,
   "metadata": {
    "pycharm": {
     "is_executing": true
    }
   },
   "outputs": [
    {
     "name": "stdout",
     "output_type": "stream",
     "text": [
      "Optimization terminated successfully.\n",
      "         Current function value: 0.689568\n",
      "         Iterations 4\n"
     ]
    },
    {
     "data": {
      "text/html": [
       "<table class=\"simpletable\">\n",
       "<caption>Probit Marginal Effects</caption>\n",
       "<tr>\n",
       "  <th>Dep. Variable:</th> <td>stayed_finance</td>\n",
       "</tr>\n",
       "<tr>\n",
       "  <th>Method:</th>             <td>dydx</td>     \n",
       "</tr>\n",
       "<tr>\n",
       "  <th>At:</th>                <td>overall</td>   \n",
       "</tr>\n",
       "</table>\n",
       "<table class=\"simpletable\">\n",
       "<tr>\n",
       "      <th></th>         <th>dy/dx</th>    <th>std err</th>      <th>z</th>      <th>P>|z|</th>  <th>[0.025</th>    <th>0.975]</th>  \n",
       "</tr>\n",
       "<tr>\n",
       "  <th>is_lehman</th> <td>    0.0596</td> <td>    0.005</td> <td>   11.858</td> <td> 0.000</td> <td>    0.050</td> <td>    0.070</td>\n",
       "</tr>\n",
       "</table>"
      ],
      "text/plain": [
       "<class 'statsmodels.iolib.summary.Summary'>\n",
       "\"\"\"\n",
       "       Probit Marginal Effects       \n",
       "=====================================\n",
       "Dep. Variable:         stayed_finance\n",
       "Method:                          dydx\n",
       "At:                           overall\n",
       "==============================================================================\n",
       "                dy/dx    std err          z      P>|z|      [0.025      0.975]\n",
       "------------------------------------------------------------------------------\n",
       "is_lehman      0.0596      0.005     11.858      0.000       0.050       0.070\n",
       "==============================================================================\n",
       "\"\"\""
      ]
     },
     "execution_count": 91,
     "metadata": {},
     "output_type": "execute_result"
    }
   ],
   "source": [
    "lehman_guys = lehman_most_recent[['lehman_stayed_finance']].copy().rename({'lehman_stayed_finance' : 'stayed_finance'}, axis = 1)\n",
    "\n",
    "lehman_guys['is_lehman'] = 1\n",
    "\n",
    "lehman_guys\n",
    "\n",
    "non_lehman_guys = lehman_most_recent[['match_stayed_finance']].copy().rename({'match_stayed_finance' : 'stayed_finance'}, axis = 1)\n",
    "non_lehman_guys['is_lehman'] = 0\n",
    "\n",
    "all_data = pd.concat([lehman_guys,non_lehman_guys])\n",
    "\n",
    "all_data\n",
    "\n",
    "X = all_data['is_lehman']\n",
    "y = all_data['stayed_finance']\n",
    "\n",
    "\n",
    "model = sm.Probit(y, X)\n",
    "results = model.fit()\n",
    "\n",
    "results.get_margeff().summary()"
   ]
  },
  {
   "cell_type": "markdown",
   "metadata": {},
   "source": [
    "# Breaks"
   ]
  },
  {
   "cell_type": "code",
   "execution_count": 92,
   "metadata": {
    "pycharm": {
     "is_executing": true
    }
   },
   "outputs": [
    {
     "data": {
      "text/plain": [
       "('leh', 1342, 9516, 0.14102564102564102)"
      ]
     },
     "execution_count": 92,
     "metadata": {},
     "output_type": "execute_result"
    }
   ],
   "source": [
    "def prop_breaks(company_name, company_data):\n",
    "    \"\"\"\n",
    "    Outputs proportion of \"TIME_OFF\" or \"MISSING\" entries in a\n",
    "    dataset as the tuple (numerator, denominator).\n",
    "    \"\"\"\n",
    "\n",
    "    def get_breaks():\n",
    "        \"\"\"\n",
    "        Outputs the number of employees that have any \"TIME_OFF\" or \"MISSING\" entries after 2008.\n",
    "        \"\"\"\n",
    "        date_2008 = pd.to_datetime('2008-01-01')\n",
    "        # look only at data after 2008\n",
    "        after_2008 = company_data[company_data['start'] > date_2008]\n",
    "        # groupby user, aggregate by looking at the ticker and seeing if the person has had any time off\n",
    "        return sum(after_2008.groupby('user').ticker.agg(lambda x: any((x == 'TIME_OFF') | (x == 'MISSING'))))\n",
    "    \n",
    "    num_company_users = len(company_data.groupby('user'))\n",
    "    num_breaks = get_breaks()\n",
    "    return company_name, num_breaks, num_company_users, num_breaks/num_company_users\n",
    "\n",
    "drop = ['length', 'gender', 'primary',\n",
    "        'primary_weight', 'secondary', 'secondary_weight',\n",
    "        'city', 'country', 'education', 'elite', '.', '??',\n",
    "        '/', 'department', 'exchange',\n",
    "        'public', 'location_company', 'educational', 'degree', 'elite_education',\n",
    "        'major', 'department', 'FIGI', 'last_update', 'name', 'birth','end', 'role',\n",
    "        'company','normalized_company','industry']\n",
    "\n",
    "breaks_data = {company_name : company_data.drop(labels=drop, axis=1) for company_name, company_data in data.items()}\n",
    "\n",
    "lehman = breaks_data['leh'].copy()\n",
    "date_2008 = pd.to_datetime('2008-01-01')\n",
    "# look only at data after 2008\n",
    "lehman = lehman[lehman['start'] > date_2008]\n",
    "lehman = lehman[lehman.user.isin(list(lehman_to_match.keys()))]\n",
    "\n",
    "lehman['match'] = lehman.user.apply(lambda x : lehman_to_match[x])\n",
    "prop_breaks('leh', lehman)"
   ]
  },
  {
   "cell_type": "code",
   "execution_count": 93,
   "metadata": {
    "pycharm": {
     "is_executing": true
    }
   },
   "outputs": [],
   "source": [
    "matches = list(lehman.match.unique())\n",
    "\n",
    "non_lehman =  pd.concat([breaks_data['db'], breaks_data['gs'], breaks_data['ms'], breaks_data['ubs']])\n",
    "\n",
    "non_lehman_matches = non_lehman[non_lehman.user.isin(matches)]\n",
    "\n",
    "date_2008 = pd.to_datetime('2008-01-01')\n",
    "# look only at data after 2008\n",
    "after_2008 = non_lehman_matches[non_lehman_matches['start'] > date_2008]\n",
    "# groupby user, aggregate by looking at the ticker and seeing if the person has had any time off\n",
    "y = after_2008.groupby('user').ticker.agg(lambda x: any((x == 'TIME_OFF') | (x == 'MISSING')))\n",
    "\n",
    "w = y.to_frame()\n",
    "\n",
    "r = w[w.ticker == True]\n",
    "\n",
    "r = list(r.index)"
   ]
  },
  {
   "cell_type": "code",
   "execution_count": 94,
   "metadata": {
    "pycharm": {
     "is_executing": true
    }
   },
   "outputs": [
    {
     "name": "stderr",
     "output_type": "stream",
     "text": [
      "/Library/Frameworks/Python.framework/Versions/3.7/lib/python3.7/site-packages/ipykernel_launcher.py:1: SettingWithCopyWarning: \n",
      "A value is trying to be set on a copy of a slice from a DataFrame.\n",
      "Try using .loc[row_indexer,col_indexer] = value instead\n",
      "\n",
      "See the caveats in the documentation: http://pandas.pydata.org/pandas-docs/stable/user_guide/indexing.html#returning-a-view-versus-a-copy\n",
      "  \"\"\"Entry point for launching an IPython kernel.\n"
     ]
    },
    {
     "data": {
      "text/plain": [
       "('other', 1369, 9516, 0.14386296763345943)"
      ]
     },
     "execution_count": 94,
     "metadata": {},
     "output_type": "execute_result"
    }
   ],
   "source": [
    "non_lehman_matches['took_break'] = False\n",
    "\n",
    "non_lehman_matches.loc[non_lehman_matches.user.isin(r), 'took_break'] = True\n",
    "\n",
    "user_to_break = dict(zip(non_lehman_matches.user, non_lehman_matches.took_break))\n",
    "\n",
    "x = lehman.groupby('user').first()\n",
    "\n",
    "x['break'] = x.match.apply(lambda x: user_to_break[x])\n",
    "\n",
    "('other', sum(x['break']), len(x), sum(x['break'])/len(x))"
   ]
  },
  {
   "cell_type": "code",
   "execution_count": 95,
   "metadata": {
    "pycharm": {
     "is_executing": true
    }
   },
   "outputs": [],
   "source": [
    "lehman_guys = lehman.groupby('user').first()\n",
    "lehman_guys['break'] = lehman.groupby('user').ticker.agg(lambda x: any((x == 'TIME_OFF') | (x == 'MISSING'))).copy()"
   ]
  },
  {
   "cell_type": "code",
   "execution_count": 96,
   "metadata": {
    "pycharm": {
     "is_executing": true
    }
   },
   "outputs": [],
   "source": [
    "lehman_guys['is_lehman'] = 1\n",
    "lehman_guys = lehman_guys[['break', 'is_lehman']]"
   ]
  },
  {
   "cell_type": "code",
   "execution_count": 97,
   "metadata": {
    "pycharm": {
     "is_executing": true
    }
   },
   "outputs": [],
   "source": [
    "non_lehman_guys = x[['break']].copy()\n",
    "non_lehman_guys['is_lehman'] = 0"
   ]
  },
  {
   "cell_type": "code",
   "execution_count": 98,
   "metadata": {
    "pycharm": {
     "is_executing": true
    }
   },
   "outputs": [
    {
     "name": "stdout",
     "output_type": "stream",
     "text": [
      "Optimization terminated successfully.\n",
      "         Current function value: 0.549984\n",
      "         Iterations 5\n"
     ]
    },
    {
     "data": {
      "text/html": [
       "<table class=\"simpletable\">\n",
       "<caption>Probit Marginal Effects</caption>\n",
       "<tr>\n",
       "  <th>Dep. Variable:</th>  <td>break</td> \n",
       "</tr>\n",
       "<tr>\n",
       "  <th>Method:</th>         <td>dydx</td>  \n",
       "</tr>\n",
       "<tr>\n",
       "  <th>At:</th>            <td>overall</td>\n",
       "</tr>\n",
       "</table>\n",
       "<table class=\"simpletable\">\n",
       "<tr>\n",
       "      <th></th>         <th>dy/dx</th>    <th>std err</th>      <th>z</th>      <th>P>|z|</th>  <th>[0.025</th>    <th>0.975]</th>  \n",
       "</tr>\n",
       "<tr>\n",
       "  <th>is_lehman</th> <td>   -0.3349</td> <td>    0.003</td> <td> -115.426</td> <td> 0.000</td> <td>   -0.341</td> <td>   -0.329</td>\n",
       "</tr>\n",
       "</table>"
      ],
      "text/plain": [
       "<class 'statsmodels.iolib.summary.Summary'>\n",
       "\"\"\"\n",
       "       Probit Marginal Effects       \n",
       "=====================================\n",
       "Dep. Variable:                  break\n",
       "Method:                          dydx\n",
       "At:                           overall\n",
       "==============================================================================\n",
       "                dy/dx    std err          z      P>|z|      [0.025      0.975]\n",
       "------------------------------------------------------------------------------\n",
       "is_lehman     -0.3349      0.003   -115.426      0.000      -0.341      -0.329\n",
       "==============================================================================\n",
       "\"\"\""
      ]
     },
     "execution_count": 98,
     "metadata": {},
     "output_type": "execute_result"
    }
   ],
   "source": [
    "all_data = pd.concat([lehman_guys,non_lehman_guys])\n",
    "\n",
    "all_data\n",
    "\n",
    "X = all_data['is_lehman']\n",
    "y = all_data['break']\n",
    "\n",
    "\n",
    "model = sm.Probit(y, X)\n",
    "results = model.fit()\n",
    "\n",
    "results.get_margeff().summary()"
   ]
  }
 ],
 "metadata": {
  "kernelspec": {
   "display_name": "Python 3",
   "language": "python",
   "name": "python3"
  },
  "language_info": {
   "codemirror_mode": {
    "name": "ipython",
    "version": 3
   },
   "file_extension": ".py",
   "mimetype": "text/x-python",
   "name": "python",
   "nbconvert_exporter": "python",
   "pygments_lexer": "ipython3",
   "version": "3.7.3"
  }
 },
 "nbformat": 4,
 "nbformat_minor": 1
}
