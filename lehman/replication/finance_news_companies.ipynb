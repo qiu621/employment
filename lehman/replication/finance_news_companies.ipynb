{
 "cells": [
  {
   "cell_type": "code",
   "execution_count": 60,
   "metadata": {
    "pycharm": {
     "is_executing": false
    }
   },
   "outputs": [],
   "source": [
    "import pandas as pd\n",
    "private = pd.read_json('./Data/private_finance.json', lines = True)\n",
    "public = pd.read_json('./Data/public_finance.json', lines = True)"
   ]
  },
  {
   "cell_type": "code",
   "execution_count": 61,
   "metadata": {},
   "outputs": [],
   "source": [
    "companies = [company[0] for company in private.identifiers]"
   ]
  },
  {
   "cell_type": "code",
   "execution_count": 62,
   "metadata": {},
   "outputs": [
    {
     "data": {
      "text/html": [
       "<div>\n",
       "<style scoped>\n",
       "    .dataframe tbody tr th:only-of-type {\n",
       "        vertical-align: middle;\n",
       "    }\n",
       "\n",
       "    .dataframe tbody tr th {\n",
       "        vertical-align: top;\n",
       "    }\n",
       "\n",
       "    .dataframe thead th {\n",
       "        text-align: right;\n",
       "    }\n",
       "</style>\n",
       "<table border=\"1\" class=\"dataframe\">\n",
       "  <thead>\n",
       "    <tr style=\"text-align: right;\">\n",
       "      <th></th>\n",
       "      <th>path</th>\n",
       "      <th>identifiers</th>\n",
       "      <th>naics</th>\n",
       "      <th>all_names</th>\n",
       "      <th>type</th>\n",
       "      <th>category</th>\n",
       "    </tr>\n",
       "  </thead>\n",
       "  <tbody>\n",
       "    <tr>\n",
       "      <td>0</td>\n",
       "      <td>lipath-amerisave</td>\n",
       "      <td>[amerisave]</td>\n",
       "      <td>[52]</td>\n",
       "      <td>[AmeriSave Mortgage Corporation, Amerisave Mor...</td>\n",
       "      <td>private</td>\n",
       "      <td>Finance and Insurance</td>\n",
       "    </tr>\n",
       "    <tr>\n",
       "      <td>1</td>\n",
       "      <td>lipath-park-row-associates-limited</td>\n",
       "      <td>[park row]</td>\n",
       "      <td>[52]</td>\n",
       "      <td>[Park Row Associates Limited]</td>\n",
       "      <td>private</td>\n",
       "      <td>Finance and Insurance</td>\n",
       "    </tr>\n",
       "    <tr>\n",
       "      <td>2</td>\n",
       "      <td>lipath-ingbelgium</td>\n",
       "      <td>[ing]</td>\n",
       "      <td>[52]</td>\n",
       "      <td>[BBL, ING Belgium Sa, ING Banque Belgium, ING ...</td>\n",
       "      <td>private</td>\n",
       "      <td>Finance and Insurance</td>\n",
       "    </tr>\n",
       "    <tr>\n",
       "      <td>3</td>\n",
       "      <td>lipath-brown-brothers-harriman</td>\n",
       "      <td>[brown brothers harriman &amp; co]</td>\n",
       "      <td>[523930]</td>\n",
       "      <td>[Brown Brothers Harriman (BBH) &amp; Co., Brown Br...</td>\n",
       "      <td>private</td>\n",
       "      <td>64132</td>\n",
       "    </tr>\n",
       "    <tr>\n",
       "      <td>4</td>\n",
       "      <td>lipath-janney-montgomery-scott</td>\n",
       "      <td>[janney montgomery scott]</td>\n",
       "      <td>[52]</td>\n",
       "      <td>[Janney Montgomery Scott, Velnoskey Wealth Man...</td>\n",
       "      <td>private</td>\n",
       "      <td>Finance and Insurance</td>\n",
       "    </tr>\n",
       "    <tr>\n",
       "      <td>...</td>\n",
       "      <td>...</td>\n",
       "      <td>...</td>\n",
       "      <td>...</td>\n",
       "      <td>...</td>\n",
       "      <td>...</td>\n",
       "      <td>...</td>\n",
       "    </tr>\n",
       "    <tr>\n",
       "      <td>41281</td>\n",
       "      <td>lipath-nsia-nigeria-sovereign-investment-autho...</td>\n",
       "      <td>[nsia: nigeria sovereign investment]</td>\n",
       "      <td>[52]</td>\n",
       "      <td>[NSIA: Nigeria Sovereign Investment Authority]</td>\n",
       "      <td>private</td>\n",
       "      <td>Finance and Insurance</td>\n",
       "    </tr>\n",
       "    <tr>\n",
       "      <td>41282</td>\n",
       "      <td>lipath-prague-wall-street-club</td>\n",
       "      <td>[prague wall street]</td>\n",
       "      <td>[52]</td>\n",
       "      <td>[Prague Wall Street Club]</td>\n",
       "      <td>private</td>\n",
       "      <td>Finance and Insurance</td>\n",
       "    </tr>\n",
       "    <tr>\n",
       "      <td>41283</td>\n",
       "      <td>lipath-direct-insurance-group-plc</td>\n",
       "      <td>[direct insurance]</td>\n",
       "      <td>[52]</td>\n",
       "      <td>[Direct Insurance Group Plc]</td>\n",
       "      <td>private</td>\n",
       "      <td>Finance and Insurance</td>\n",
       "    </tr>\n",
       "    <tr>\n",
       "      <td>41284</td>\n",
       "      <td>lipath-professional-consulting-group-pcg-</td>\n",
       "      <td>[pcg - private client]</td>\n",
       "      <td>[52]</td>\n",
       "      <td>[PCG - Private Client Group]</td>\n",
       "      <td>private</td>\n",
       "      <td>Finance and Insurance</td>\n",
       "    </tr>\n",
       "    <tr>\n",
       "      <td>41285</td>\n",
       "      <td>lipath-creditpay-b-v-</td>\n",
       "      <td>[creditpay]</td>\n",
       "      <td>[52]</td>\n",
       "      <td>[CreditPay]</td>\n",
       "      <td>private</td>\n",
       "      <td>Finance and Insurance</td>\n",
       "    </tr>\n",
       "  </tbody>\n",
       "</table>\n",
       "<p>41286 rows × 6 columns</p>\n",
       "</div>"
      ],
      "text/plain": [
       "                                                    path  \\\n",
       "0                                       lipath-amerisave   \n",
       "1                     lipath-park-row-associates-limited   \n",
       "2                                      lipath-ingbelgium   \n",
       "3                         lipath-brown-brothers-harriman   \n",
       "4                         lipath-janney-montgomery-scott   \n",
       "...                                                  ...   \n",
       "41281  lipath-nsia-nigeria-sovereign-investment-autho...   \n",
       "41282                     lipath-prague-wall-street-club   \n",
       "41283                  lipath-direct-insurance-group-plc   \n",
       "41284          lipath-professional-consulting-group-pcg-   \n",
       "41285                              lipath-creditpay-b-v-   \n",
       "\n",
       "                                identifiers     naics  \\\n",
       "0                               [amerisave]      [52]   \n",
       "1                                [park row]      [52]   \n",
       "2                                     [ing]      [52]   \n",
       "3            [brown brothers harriman & co]  [523930]   \n",
       "4                 [janney montgomery scott]      [52]   \n",
       "...                                     ...       ...   \n",
       "41281  [nsia: nigeria sovereign investment]      [52]   \n",
       "41282                  [prague wall street]      [52]   \n",
       "41283                    [direct insurance]      [52]   \n",
       "41284                [pcg - private client]      [52]   \n",
       "41285                           [creditpay]      [52]   \n",
       "\n",
       "                                               all_names     type  \\\n",
       "0      [AmeriSave Mortgage Corporation, Amerisave Mor...  private   \n",
       "1                          [Park Row Associates Limited]  private   \n",
       "2      [BBL, ING Belgium Sa, ING Banque Belgium, ING ...  private   \n",
       "3      [Brown Brothers Harriman (BBH) & Co., Brown Br...  private   \n",
       "4      [Janney Montgomery Scott, Velnoskey Wealth Man...  private   \n",
       "...                                                  ...      ...   \n",
       "41281     [NSIA: Nigeria Sovereign Investment Authority]  private   \n",
       "41282                          [Prague Wall Street Club]  private   \n",
       "41283                       [Direct Insurance Group Plc]  private   \n",
       "41284                       [PCG - Private Client Group]  private   \n",
       "41285                                        [CreditPay]  private   \n",
       "\n",
       "                    category  \n",
       "0      Finance and Insurance  \n",
       "1      Finance and Insurance  \n",
       "2      Finance and Insurance  \n",
       "3                      64132  \n",
       "4      Finance and Insurance  \n",
       "...                      ...  \n",
       "41281  Finance and Insurance  \n",
       "41282  Finance and Insurance  \n",
       "41283  Finance and Insurance  \n",
       "41284  Finance and Insurance  \n",
       "41285  Finance and Insurance  \n",
       "\n",
       "[41286 rows x 6 columns]"
      ]
     },
     "execution_count": 62,
     "metadata": {},
     "output_type": "execute_result"
    }
   ],
   "source": [
    "private"
   ]
  },
  {
   "cell_type": "code",
   "execution_count": 63,
   "metadata": {
    "pycharm": {
     "is_executing": false
    }
   },
   "outputs": [],
   "source": [
    "public_companies = []\n",
    "[[public_companies.append(company_name) for company_name in aliases] for aliases in y.all_names];"
   ]
  },
  {
   "cell_type": "code",
   "execution_count": 64,
   "metadata": {},
   "outputs": [],
   "source": [
    "all_companies = pd.DataFrame(public_companies + companies)"
   ]
  },
  {
   "cell_type": "code",
   "execution_count": 69,
   "metadata": {},
   "outputs": [
    {
     "name": "stderr",
     "output_type": "stream",
     "text": [
      "/Library/Frameworks/Python.framework/Versions/3.7/lib/python3.7/site-packages/ipykernel_launcher.py:1: FutureWarning: The signature of `Series.to_csv` was aligned to that of `DataFrame.to_csv`, and argument 'header' will change its default value from False to True: please pass an explicit value to suppress this warning.\n",
      "  \"\"\"Entry point for launching an IPython kernel.\n"
     ]
    }
   ],
   "source": [
    "all_companies[0].value_counts().head(2000).to_csv('./Deliverables/expanded_companies.csv')"
   ]
  },
  {
   "cell_type": "code",
   "execution_count": null,
   "metadata": {},
   "outputs": [],
   "source": []
  }
 ],
 "metadata": {
  "kernelspec": {
   "display_name": "Python 3",
   "language": "python",
   "name": "python3"
  },
  "language_info": {
   "codemirror_mode": {
    "name": "ipython",
    "version": 3
   },
   "file_extension": ".py",
   "mimetype": "text/x-python",
   "name": "python",
   "nbconvert_exporter": "python",
   "pygments_lexer": "ipython3",
   "version": "3.7.3"
  }
 },
 "nbformat": 4,
 "nbformat_minor": 2
}
